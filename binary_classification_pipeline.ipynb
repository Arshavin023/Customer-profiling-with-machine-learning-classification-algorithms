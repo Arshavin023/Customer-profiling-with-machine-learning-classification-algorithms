{
  "cells": [
    {
      "cell_type": "markdown",
      "id": "c9a0ffce",
      "metadata": {
        "id": "c9a0ffce"
      },
      "source": [
        "## Pipeline for Binary Label Classification"
      ]
    },
    {
      "cell_type": "markdown",
      "id": "66d9f348",
      "metadata": {
        "id": "66d9f348"
      },
      "source": [
        "#### Life cycle of Machine learning Project\n",
        "\n",
        "- Understanding the Problem Statement\n",
        "- Data Collection\n",
        "- Data Checks to perform\n",
        "- Exploratory data analysis\n",
        "- Data Pre-Processing\n",
        "- Model Training\n",
        "- Choose best model"
      ]
    },
    {
      "cell_type": "markdown",
      "id": "6a3eaa41",
      "metadata": {
        "id": "6a3eaa41"
      },
      "source": [
        "### 1) Problem statement\n",
        "- This project seeks to understand how several features/variables affects loan repayability by customers seeking loans with a microfinance institution\n",
        "- The factors include account_type, credit_duration(month), payment_status_of_previous_loan, loan_purpose, credit_amount, savings_type, duration_of_current_employment, installment_percent, marital_status, guarantor, duration_in_current_address, most_valuable_asset, age, concurrent_credits, type_of_apartment, no_of_credits_at_the_bank, occupation, telephone, foreign_work\n",
        "\n",
        "- Note: \"1\" label was represented as bad and \"0\" was represented as good in the problem statement. This will be interchange appropriately in the label column for easy model training and assessment.\n",
        "\n",
        "### 2) Data Collection\n",
        "- Dataset Source - https://drive.google.com/file/d/1po5SW_7Vy8H9hRyIWSgAXcbPo0Ycss9J/view\n",
        "- The data consists of 22 columns and 1000 rows."
      ]
    },
    {
      "cell_type": "markdown",
      "id": "a694eab3",
      "metadata": {
        "id": "a694eab3"
      },
      "source": [
        "### 2.1 Import Data and Required Packages"
      ]
    },
    {
      "cell_type": "markdown",
      "id": "e0ff9de3",
      "metadata": {
        "id": "e0ff9de3"
      },
      "source": [
        "#### 2.1.1 Importing libraries"
      ]
    },
    {
      "cell_type": "code",
      "execution_count": 45,
      "id": "9e101c84",
      "metadata": {
        "id": "9e101c84"
      },
      "outputs": [],
      "source": [
        "# Basic Import\n",
        "import numpy as np\n",
        "import pandas as pd\n",
        "import seaborn as sns\n",
        "import matplotlib.pyplot as plt\n",
        "%matplotlib inline\n",
        "\n",
        "# Modelling\n",
        "from sklearn.model_selection import RandomizedSearchCV\n",
        "from catboost import CatBoostClassifier\n",
        "from xgboost import XGBClassifier\n",
        "from sklearn.experimental import enable_iterative_imputer\n",
        "from sklearn.impute import IterativeImputer, SimpleImputer\n",
        "from sklearn.model_selection import train_test_split\n",
        "from sklearn.compose import ColumnTransformer\n",
        "from sklearn.pipeline import Pipeline\n",
        "from sklearn.preprocessing import OrdinalEncoder, OneHotEncoder, StandardScaler, MinMaxScaler, LabelEncoder\n",
        "from sklearn.metrics import accuracy_score,roc_curve, confusion_matrix, roc_auc_score, classification_report, precision_score, recall_score\n",
        "from sklearn.linear_model import LogisticRegression, SGDClassifier\n",
        "from sklearn.ensemble import GradientBoostingClassifier, RandomForestClassifier\n",
        "from sklearn.tree import DecisionTreeClassifier\n",
        "from sklearn.neural_network import MLPClassifier\n",
        "from sklearn.svm import SVC\n",
        "from sklearn.metrics import accuracy_score, precision_score, recall_score\n",
        "from sklearn.model_selection import cross_val_score\n",
        "from sklearn.model_selection import StratifiedKFold, StratifiedShuffleSplit\n",
        "# from lab_utils_common import dlc\n",
        "# from lab_neurons_utils import plt_prob_1d, sigmoidnp, plt_linear, plt_logistic\n",
        "# plt.style.use('./deeplearning.mplstyle')\n",
        "import logging\n",
        "logging.getLogger(\"tensorflow\").setLevel(logging.ERROR)\n",
        "tf.autograph.set_verbosity(0)\n",
        "import warnings\n",
        "warnings.filterwarnings(\"ignore\")"
      ]
    },
    {
      "cell_type": "markdown",
      "source": [
        "Upload files into Colab Environment"
      ],
      "metadata": {
        "id": "Y2IXxljqk919"
      },
      "id": "Y2IXxljqk919"
    },
    {
      "cell_type": "code",
      "source": [
        "from google.colab import files\n",
        "\n",
        "# Use the files.upload() method to upload a file\n",
        "uploaded = files.upload()\n",
        "\n",
        "# After running the above code, a file upload dialog will appear.\n",
        "# Select the CSV file you want to upload from your local machine."
      ],
      "metadata": {
        "colab": {
          "base_uri": "https://localhost:8080/",
          "height": 73
        },
        "id": "f9Nn1Pmhk3y8",
        "outputId": "494d8123-3ef2-4152-a9b4-d46aa533a6f0"
      },
      "id": "f9Nn1Pmhk3y8",
      "execution_count": 4,
      "outputs": [
        {
          "output_type": "display_data",
          "data": {
            "text/plain": [
              "<IPython.core.display.HTML object>"
            ],
            "text/html": [
              "\n",
              "     <input type=\"file\" id=\"files-2a392f64-4ade-4af2-a169-486a202bfbf7\" name=\"files[]\" multiple disabled\n",
              "        style=\"border:none\" />\n",
              "     <output id=\"result-2a392f64-4ade-4af2-a169-486a202bfbf7\">\n",
              "      Upload widget is only available when the cell has been executed in the\n",
              "      current browser session. Please rerun this cell to enable.\n",
              "      </output>\n",
              "      <script>// Copyright 2017 Google LLC\n",
              "//\n",
              "// Licensed under the Apache License, Version 2.0 (the \"License\");\n",
              "// you may not use this file except in compliance with the License.\n",
              "// You may obtain a copy of the License at\n",
              "//\n",
              "//      http://www.apache.org/licenses/LICENSE-2.0\n",
              "//\n",
              "// Unless required by applicable law or agreed to in writing, software\n",
              "// distributed under the License is distributed on an \"AS IS\" BASIS,\n",
              "// WITHOUT WARRANTIES OR CONDITIONS OF ANY KIND, either express or implied.\n",
              "// See the License for the specific language governing permissions and\n",
              "// limitations under the License.\n",
              "\n",
              "/**\n",
              " * @fileoverview Helpers for google.colab Python module.\n",
              " */\n",
              "(function(scope) {\n",
              "function span(text, styleAttributes = {}) {\n",
              "  const element = document.createElement('span');\n",
              "  element.textContent = text;\n",
              "  for (const key of Object.keys(styleAttributes)) {\n",
              "    element.style[key] = styleAttributes[key];\n",
              "  }\n",
              "  return element;\n",
              "}\n",
              "\n",
              "// Max number of bytes which will be uploaded at a time.\n",
              "const MAX_PAYLOAD_SIZE = 100 * 1024;\n",
              "\n",
              "function _uploadFiles(inputId, outputId) {\n",
              "  const steps = uploadFilesStep(inputId, outputId);\n",
              "  const outputElement = document.getElementById(outputId);\n",
              "  // Cache steps on the outputElement to make it available for the next call\n",
              "  // to uploadFilesContinue from Python.\n",
              "  outputElement.steps = steps;\n",
              "\n",
              "  return _uploadFilesContinue(outputId);\n",
              "}\n",
              "\n",
              "// This is roughly an async generator (not supported in the browser yet),\n",
              "// where there are multiple asynchronous steps and the Python side is going\n",
              "// to poll for completion of each step.\n",
              "// This uses a Promise to block the python side on completion of each step,\n",
              "// then passes the result of the previous step as the input to the next step.\n",
              "function _uploadFilesContinue(outputId) {\n",
              "  const outputElement = document.getElementById(outputId);\n",
              "  const steps = outputElement.steps;\n",
              "\n",
              "  const next = steps.next(outputElement.lastPromiseValue);\n",
              "  return Promise.resolve(next.value.promise).then((value) => {\n",
              "    // Cache the last promise value to make it available to the next\n",
              "    // step of the generator.\n",
              "    outputElement.lastPromiseValue = value;\n",
              "    return next.value.response;\n",
              "  });\n",
              "}\n",
              "\n",
              "/**\n",
              " * Generator function which is called between each async step of the upload\n",
              " * process.\n",
              " * @param {string} inputId Element ID of the input file picker element.\n",
              " * @param {string} outputId Element ID of the output display.\n",
              " * @return {!Iterable<!Object>} Iterable of next steps.\n",
              " */\n",
              "function* uploadFilesStep(inputId, outputId) {\n",
              "  const inputElement = document.getElementById(inputId);\n",
              "  inputElement.disabled = false;\n",
              "\n",
              "  const outputElement = document.getElementById(outputId);\n",
              "  outputElement.innerHTML = '';\n",
              "\n",
              "  const pickedPromise = new Promise((resolve) => {\n",
              "    inputElement.addEventListener('change', (e) => {\n",
              "      resolve(e.target.files);\n",
              "    });\n",
              "  });\n",
              "\n",
              "  const cancel = document.createElement('button');\n",
              "  inputElement.parentElement.appendChild(cancel);\n",
              "  cancel.textContent = 'Cancel upload';\n",
              "  const cancelPromise = new Promise((resolve) => {\n",
              "    cancel.onclick = () => {\n",
              "      resolve(null);\n",
              "    };\n",
              "  });\n",
              "\n",
              "  // Wait for the user to pick the files.\n",
              "  const files = yield {\n",
              "    promise: Promise.race([pickedPromise, cancelPromise]),\n",
              "    response: {\n",
              "      action: 'starting',\n",
              "    }\n",
              "  };\n",
              "\n",
              "  cancel.remove();\n",
              "\n",
              "  // Disable the input element since further picks are not allowed.\n",
              "  inputElement.disabled = true;\n",
              "\n",
              "  if (!files) {\n",
              "    return {\n",
              "      response: {\n",
              "        action: 'complete',\n",
              "      }\n",
              "    };\n",
              "  }\n",
              "\n",
              "  for (const file of files) {\n",
              "    const li = document.createElement('li');\n",
              "    li.append(span(file.name, {fontWeight: 'bold'}));\n",
              "    li.append(span(\n",
              "        `(${file.type || 'n/a'}) - ${file.size} bytes, ` +\n",
              "        `last modified: ${\n",
              "            file.lastModifiedDate ? file.lastModifiedDate.toLocaleDateString() :\n",
              "                                    'n/a'} - `));\n",
              "    const percent = span('0% done');\n",
              "    li.appendChild(percent);\n",
              "\n",
              "    outputElement.appendChild(li);\n",
              "\n",
              "    const fileDataPromise = new Promise((resolve) => {\n",
              "      const reader = new FileReader();\n",
              "      reader.onload = (e) => {\n",
              "        resolve(e.target.result);\n",
              "      };\n",
              "      reader.readAsArrayBuffer(file);\n",
              "    });\n",
              "    // Wait for the data to be ready.\n",
              "    let fileData = yield {\n",
              "      promise: fileDataPromise,\n",
              "      response: {\n",
              "        action: 'continue',\n",
              "      }\n",
              "    };\n",
              "\n",
              "    // Use a chunked sending to avoid message size limits. See b/62115660.\n",
              "    let position = 0;\n",
              "    do {\n",
              "      const length = Math.min(fileData.byteLength - position, MAX_PAYLOAD_SIZE);\n",
              "      const chunk = new Uint8Array(fileData, position, length);\n",
              "      position += length;\n",
              "\n",
              "      const base64 = btoa(String.fromCharCode.apply(null, chunk));\n",
              "      yield {\n",
              "        response: {\n",
              "          action: 'append',\n",
              "          file: file.name,\n",
              "          data: base64,\n",
              "        },\n",
              "      };\n",
              "\n",
              "      let percentDone = fileData.byteLength === 0 ?\n",
              "          100 :\n",
              "          Math.round((position / fileData.byteLength) * 100);\n",
              "      percent.textContent = `${percentDone}% done`;\n",
              "\n",
              "    } while (position < fileData.byteLength);\n",
              "  }\n",
              "\n",
              "  // All done.\n",
              "  yield {\n",
              "    response: {\n",
              "      action: 'complete',\n",
              "    }\n",
              "  };\n",
              "}\n",
              "\n",
              "scope.google = scope.google || {};\n",
              "scope.google.colab = scope.google.colab || {};\n",
              "scope.google.colab._files = {\n",
              "  _uploadFiles,\n",
              "  _uploadFilesContinue,\n",
              "};\n",
              "})(self);\n",
              "</script> "
            ]
          },
          "metadata": {}
        },
        {
          "output_type": "stream",
          "name": "stdout",
          "text": [
            "Saving classification.csv to classification.csv\n"
          ]
        }
      ]
    },
    {
      "cell_type": "markdown",
      "id": "24ec799e",
      "metadata": {
        "id": "24ec799e"
      },
      "source": [
        "#### 2.1.2 Import CSV data as dataframe"
      ]
    },
    {
      "cell_type": "code",
      "execution_count": 46,
      "id": "62bf11c4",
      "metadata": {
        "id": "62bf11c4"
      },
      "outputs": [],
      "source": [
        "df = pd.read_csv('classification.csv')"
      ]
    },
    {
      "cell_type": "code",
      "execution_count": 47,
      "id": "98bc5fdc",
      "metadata": {
        "colab": {
          "base_uri": "https://localhost:8080/",
          "height": 231
        },
        "id": "98bc5fdc",
        "outputId": "81756aa4-8daa-4a8c-cb93-f71fa2b7290d"
      },
      "outputs": [
        {
          "output_type": "execute_result",
          "data": {
            "text/plain": [
              "   user_id  label  Account type  Duration of Credit (month)  \\\n",
              "0   586266      1             1                          18   \n",
              "1   392565      1             1                           9   \n",
              "\n",
              "   Payment Status of Previous Credit  Purpose  Credit Amount  Savings type  \\\n",
              "0                                  4        2           1049             1   \n",
              "1                                  4        0           2799             1   \n",
              "\n",
              "   Length of current employment  Instalment per cent  ...  \\\n",
              "0                             2                    4  ...   \n",
              "1                             3                    2  ...   \n",
              "\n",
              "   Duration in Current address  Most valuable available asset  Age  \\\n",
              "0                            4                              2   21   \n",
              "1                            2                              1   36   \n",
              "\n",
              "   Concurrent Credits  Type of apartment  No of Credits at this Bank  \\\n",
              "0                   3                  1                           1   \n",
              "1                   3                  1                           2   \n",
              "\n",
              "   Occupation  No of dependents  Telephone  Foreign Worker  \n",
              "0           3                 1          1               1  \n",
              "1           3                 2          1               1  \n",
              "\n",
              "[2 rows x 22 columns]"
            ],
            "text/html": [
              "\n",
              "  <div id=\"df-c33f93b6-3d72-47d1-b031-49375e55e10b\" class=\"colab-df-container\">\n",
              "    <div>\n",
              "<style scoped>\n",
              "    .dataframe tbody tr th:only-of-type {\n",
              "        vertical-align: middle;\n",
              "    }\n",
              "\n",
              "    .dataframe tbody tr th {\n",
              "        vertical-align: top;\n",
              "    }\n",
              "\n",
              "    .dataframe thead th {\n",
              "        text-align: right;\n",
              "    }\n",
              "</style>\n",
              "<table border=\"1\" class=\"dataframe\">\n",
              "  <thead>\n",
              "    <tr style=\"text-align: right;\">\n",
              "      <th></th>\n",
              "      <th>user_id</th>\n",
              "      <th>label</th>\n",
              "      <th>Account type</th>\n",
              "      <th>Duration of Credit (month)</th>\n",
              "      <th>Payment Status of Previous Credit</th>\n",
              "      <th>Purpose</th>\n",
              "      <th>Credit Amount</th>\n",
              "      <th>Savings type</th>\n",
              "      <th>Length of current employment</th>\n",
              "      <th>Instalment per cent</th>\n",
              "      <th>...</th>\n",
              "      <th>Duration in Current address</th>\n",
              "      <th>Most valuable available asset</th>\n",
              "      <th>Age</th>\n",
              "      <th>Concurrent Credits</th>\n",
              "      <th>Type of apartment</th>\n",
              "      <th>No of Credits at this Bank</th>\n",
              "      <th>Occupation</th>\n",
              "      <th>No of dependents</th>\n",
              "      <th>Telephone</th>\n",
              "      <th>Foreign Worker</th>\n",
              "    </tr>\n",
              "  </thead>\n",
              "  <tbody>\n",
              "    <tr>\n",
              "      <th>0</th>\n",
              "      <td>586266</td>\n",
              "      <td>1</td>\n",
              "      <td>1</td>\n",
              "      <td>18</td>\n",
              "      <td>4</td>\n",
              "      <td>2</td>\n",
              "      <td>1049</td>\n",
              "      <td>1</td>\n",
              "      <td>2</td>\n",
              "      <td>4</td>\n",
              "      <td>...</td>\n",
              "      <td>4</td>\n",
              "      <td>2</td>\n",
              "      <td>21</td>\n",
              "      <td>3</td>\n",
              "      <td>1</td>\n",
              "      <td>1</td>\n",
              "      <td>3</td>\n",
              "      <td>1</td>\n",
              "      <td>1</td>\n",
              "      <td>1</td>\n",
              "    </tr>\n",
              "    <tr>\n",
              "      <th>1</th>\n",
              "      <td>392565</td>\n",
              "      <td>1</td>\n",
              "      <td>1</td>\n",
              "      <td>9</td>\n",
              "      <td>4</td>\n",
              "      <td>0</td>\n",
              "      <td>2799</td>\n",
              "      <td>1</td>\n",
              "      <td>3</td>\n",
              "      <td>2</td>\n",
              "      <td>...</td>\n",
              "      <td>2</td>\n",
              "      <td>1</td>\n",
              "      <td>36</td>\n",
              "      <td>3</td>\n",
              "      <td>1</td>\n",
              "      <td>2</td>\n",
              "      <td>3</td>\n",
              "      <td>2</td>\n",
              "      <td>1</td>\n",
              "      <td>1</td>\n",
              "    </tr>\n",
              "  </tbody>\n",
              "</table>\n",
              "<p>2 rows × 22 columns</p>\n",
              "</div>\n",
              "    <div class=\"colab-df-buttons\">\n",
              "\n",
              "  <div class=\"colab-df-container\">\n",
              "    <button class=\"colab-df-convert\" onclick=\"convertToInteractive('df-c33f93b6-3d72-47d1-b031-49375e55e10b')\"\n",
              "            title=\"Convert this dataframe to an interactive table.\"\n",
              "            style=\"display:none;\">\n",
              "\n",
              "  <svg xmlns=\"http://www.w3.org/2000/svg\" height=\"24px\" viewBox=\"0 -960 960 960\">\n",
              "    <path d=\"M120-120v-720h720v720H120Zm60-500h600v-160H180v160Zm220 220h160v-160H400v160Zm0 220h160v-160H400v160ZM180-400h160v-160H180v160Zm440 0h160v-160H620v160ZM180-180h160v-160H180v160Zm440 0h160v-160H620v160Z\"/>\n",
              "  </svg>\n",
              "    </button>\n",
              "\n",
              "  <style>\n",
              "    .colab-df-container {\n",
              "      display:flex;\n",
              "      gap: 12px;\n",
              "    }\n",
              "\n",
              "    .colab-df-convert {\n",
              "      background-color: #E8F0FE;\n",
              "      border: none;\n",
              "      border-radius: 50%;\n",
              "      cursor: pointer;\n",
              "      display: none;\n",
              "      fill: #1967D2;\n",
              "      height: 32px;\n",
              "      padding: 0 0 0 0;\n",
              "      width: 32px;\n",
              "    }\n",
              "\n",
              "    .colab-df-convert:hover {\n",
              "      background-color: #E2EBFA;\n",
              "      box-shadow: 0px 1px 2px rgba(60, 64, 67, 0.3), 0px 1px 3px 1px rgba(60, 64, 67, 0.15);\n",
              "      fill: #174EA6;\n",
              "    }\n",
              "\n",
              "    .colab-df-buttons div {\n",
              "      margin-bottom: 4px;\n",
              "    }\n",
              "\n",
              "    [theme=dark] .colab-df-convert {\n",
              "      background-color: #3B4455;\n",
              "      fill: #D2E3FC;\n",
              "    }\n",
              "\n",
              "    [theme=dark] .colab-df-convert:hover {\n",
              "      background-color: #434B5C;\n",
              "      box-shadow: 0px 1px 3px 1px rgba(0, 0, 0, 0.15);\n",
              "      filter: drop-shadow(0px 1px 2px rgba(0, 0, 0, 0.3));\n",
              "      fill: #FFFFFF;\n",
              "    }\n",
              "  </style>\n",
              "\n",
              "    <script>\n",
              "      const buttonEl =\n",
              "        document.querySelector('#df-c33f93b6-3d72-47d1-b031-49375e55e10b button.colab-df-convert');\n",
              "      buttonEl.style.display =\n",
              "        google.colab.kernel.accessAllowed ? 'block' : 'none';\n",
              "\n",
              "      async function convertToInteractive(key) {\n",
              "        const element = document.querySelector('#df-c33f93b6-3d72-47d1-b031-49375e55e10b');\n",
              "        const dataTable =\n",
              "          await google.colab.kernel.invokeFunction('convertToInteractive',\n",
              "                                                    [key], {});\n",
              "        if (!dataTable) return;\n",
              "\n",
              "        const docLinkHtml = 'Like what you see? Visit the ' +\n",
              "          '<a target=\"_blank\" href=https://colab.research.google.com/notebooks/data_table.ipynb>data table notebook</a>'\n",
              "          + ' to learn more about interactive tables.';\n",
              "        element.innerHTML = '';\n",
              "        dataTable['output_type'] = 'display_data';\n",
              "        await google.colab.output.renderOutput(dataTable, element);\n",
              "        const docLink = document.createElement('div');\n",
              "        docLink.innerHTML = docLinkHtml;\n",
              "        element.appendChild(docLink);\n",
              "      }\n",
              "    </script>\n",
              "  </div>\n",
              "\n",
              "\n",
              "<div id=\"df-65b17946-d4e4-4c3f-b28b-885404c38567\">\n",
              "  <button class=\"colab-df-quickchart\" onclick=\"quickchart('df-65b17946-d4e4-4c3f-b28b-885404c38567')\"\n",
              "            title=\"Suggest charts.\"\n",
              "            style=\"display:none;\">\n",
              "\n",
              "<svg xmlns=\"http://www.w3.org/2000/svg\" height=\"24px\"viewBox=\"0 0 24 24\"\n",
              "     width=\"24px\">\n",
              "    <g>\n",
              "        <path d=\"M19 3H5c-1.1 0-2 .9-2 2v14c0 1.1.9 2 2 2h14c1.1 0 2-.9 2-2V5c0-1.1-.9-2-2-2zM9 17H7v-7h2v7zm4 0h-2V7h2v10zm4 0h-2v-4h2v4z\"/>\n",
              "    </g>\n",
              "</svg>\n",
              "  </button>\n",
              "\n",
              "<style>\n",
              "  .colab-df-quickchart {\n",
              "      --bg-color: #E8F0FE;\n",
              "      --fill-color: #1967D2;\n",
              "      --hover-bg-color: #E2EBFA;\n",
              "      --hover-fill-color: #174EA6;\n",
              "      --disabled-fill-color: #AAA;\n",
              "      --disabled-bg-color: #DDD;\n",
              "  }\n",
              "\n",
              "  [theme=dark] .colab-df-quickchart {\n",
              "      --bg-color: #3B4455;\n",
              "      --fill-color: #D2E3FC;\n",
              "      --hover-bg-color: #434B5C;\n",
              "      --hover-fill-color: #FFFFFF;\n",
              "      --disabled-bg-color: #3B4455;\n",
              "      --disabled-fill-color: #666;\n",
              "  }\n",
              "\n",
              "  .colab-df-quickchart {\n",
              "    background-color: var(--bg-color);\n",
              "    border: none;\n",
              "    border-radius: 50%;\n",
              "    cursor: pointer;\n",
              "    display: none;\n",
              "    fill: var(--fill-color);\n",
              "    height: 32px;\n",
              "    padding: 0;\n",
              "    width: 32px;\n",
              "  }\n",
              "\n",
              "  .colab-df-quickchart:hover {\n",
              "    background-color: var(--hover-bg-color);\n",
              "    box-shadow: 0 1px 2px rgba(60, 64, 67, 0.3), 0 1px 3px 1px rgba(60, 64, 67, 0.15);\n",
              "    fill: var(--button-hover-fill-color);\n",
              "  }\n",
              "\n",
              "  .colab-df-quickchart-complete:disabled,\n",
              "  .colab-df-quickchart-complete:disabled:hover {\n",
              "    background-color: var(--disabled-bg-color);\n",
              "    fill: var(--disabled-fill-color);\n",
              "    box-shadow: none;\n",
              "  }\n",
              "\n",
              "  .colab-df-spinner {\n",
              "    border: 2px solid var(--fill-color);\n",
              "    border-color: transparent;\n",
              "    border-bottom-color: var(--fill-color);\n",
              "    animation:\n",
              "      spin 1s steps(1) infinite;\n",
              "  }\n",
              "\n",
              "  @keyframes spin {\n",
              "    0% {\n",
              "      border-color: transparent;\n",
              "      border-bottom-color: var(--fill-color);\n",
              "      border-left-color: var(--fill-color);\n",
              "    }\n",
              "    20% {\n",
              "      border-color: transparent;\n",
              "      border-left-color: var(--fill-color);\n",
              "      border-top-color: var(--fill-color);\n",
              "    }\n",
              "    30% {\n",
              "      border-color: transparent;\n",
              "      border-left-color: var(--fill-color);\n",
              "      border-top-color: var(--fill-color);\n",
              "      border-right-color: var(--fill-color);\n",
              "    }\n",
              "    40% {\n",
              "      border-color: transparent;\n",
              "      border-right-color: var(--fill-color);\n",
              "      border-top-color: var(--fill-color);\n",
              "    }\n",
              "    60% {\n",
              "      border-color: transparent;\n",
              "      border-right-color: var(--fill-color);\n",
              "    }\n",
              "    80% {\n",
              "      border-color: transparent;\n",
              "      border-right-color: var(--fill-color);\n",
              "      border-bottom-color: var(--fill-color);\n",
              "    }\n",
              "    90% {\n",
              "      border-color: transparent;\n",
              "      border-bottom-color: var(--fill-color);\n",
              "    }\n",
              "  }\n",
              "</style>\n",
              "\n",
              "  <script>\n",
              "    async function quickchart(key) {\n",
              "      const quickchartButtonEl =\n",
              "        document.querySelector('#' + key + ' button');\n",
              "      quickchartButtonEl.disabled = true;  // To prevent multiple clicks.\n",
              "      quickchartButtonEl.classList.add('colab-df-spinner');\n",
              "      try {\n",
              "        const charts = await google.colab.kernel.invokeFunction(\n",
              "            'suggestCharts', [key], {});\n",
              "      } catch (error) {\n",
              "        console.error('Error during call to suggestCharts:', error);\n",
              "      }\n",
              "      quickchartButtonEl.classList.remove('colab-df-spinner');\n",
              "      quickchartButtonEl.classList.add('colab-df-quickchart-complete');\n",
              "    }\n",
              "    (() => {\n",
              "      let quickchartButtonEl =\n",
              "        document.querySelector('#df-65b17946-d4e4-4c3f-b28b-885404c38567 button');\n",
              "      quickchartButtonEl.style.display =\n",
              "        google.colab.kernel.accessAllowed ? 'block' : 'none';\n",
              "    })();\n",
              "  </script>\n",
              "</div>\n",
              "    </div>\n",
              "  </div>\n"
            ]
          },
          "metadata": {},
          "execution_count": 47
        }
      ],
      "source": [
        "df.head(2)"
      ]
    },
    {
      "cell_type": "markdown",
      "id": "52fa437b",
      "metadata": {
        "id": "52fa437b"
      },
      "source": [
        "#### Create copy of dataset"
      ]
    },
    {
      "cell_type": "code",
      "execution_count": 48,
      "id": "73c29dcf",
      "metadata": {
        "id": "73c29dcf"
      },
      "outputs": [],
      "source": [
        "dff = df.copy()"
      ]
    },
    {
      "cell_type": "markdown",
      "id": "c8da2713",
      "metadata": {
        "id": "c8da2713"
      },
      "source": [
        "#### Reorganize label column"
      ]
    },
    {
      "cell_type": "code",
      "execution_count": 49,
      "id": "a8a98c0d",
      "metadata": {
        "colab": {
          "base_uri": "https://localhost:8080/"
        },
        "id": "a8a98c0d",
        "outputId": "b90e5a34-6593-4805-d0d2-0eb9902ce808"
      },
      "outputs": [
        {
          "output_type": "execute_result",
          "data": {
            "text/plain": [
              "label\n",
              "0    300\n",
              "1    700\n",
              "Name: label, dtype: int64"
            ]
          },
          "metadata": {},
          "execution_count": 49
        }
      ],
      "source": [
        "dff.groupby('label')['label'].count()"
      ]
    },
    {
      "cell_type": "code",
      "execution_count": 50,
      "id": "8ab37b82",
      "metadata": {
        "colab": {
          "base_uri": "https://localhost:8080/"
        },
        "id": "8ab37b82",
        "outputId": "83bfd9ad-44d9-49b2-a0f4-61472584b6b2"
      },
      "outputs": [
        {
          "output_type": "execute_result",
          "data": {
            "text/plain": [
              "label\n",
              "0    700\n",
              "1    300\n",
              "Name: label, dtype: int64"
            ]
          },
          "metadata": {},
          "execution_count": 50
        }
      ],
      "source": [
        "def interchange_label(x):\n",
        "    final_label=''\n",
        "    if x == 0:\n",
        "        final_label=1\n",
        "    else:\n",
        "        final_label=0\n",
        "\n",
        "    return final_label\n",
        "\n",
        "dff['label'] = dff['label'].apply(interchange_label)\n",
        "\n",
        "dff.groupby('label')['label'].count()"
      ]
    },
    {
      "cell_type": "markdown",
      "id": "a713dc20",
      "metadata": {
        "id": "a713dc20"
      },
      "source": [
        "##### Insights"
      ]
    },
    {
      "cell_type": "markdown",
      "id": "39f011a5",
      "metadata": {
        "id": "39f011a5"
      },
      "source": [
        "- Label \"0\" now represents bad and has 700 records after transformation."
      ]
    },
    {
      "cell_type": "code",
      "execution_count": null,
      "id": "103dc2dd",
      "metadata": {
        "id": "103dc2dd"
      },
      "outputs": [],
      "source": []
    },
    {
      "cell_type": "markdown",
      "id": "77ac0e7b",
      "metadata": {
        "id": "77ac0e7b"
      },
      "source": [
        "#### 2.1.3 Renaming columns\n",
        "\n",
        "#### account_type, credit_duration(month), payment_status_of_previous_loan, loan_purpose, credit_amount, savings_type, duration_of_current_employment, installment_percent, marital_status, guarantor, duration_in_current_address, most_valuable_asset, age, concurrent_credits, type_of_apartment, no_of_credits_at_the_bank, occupation, telephone, foreign_work"
      ]
    },
    {
      "cell_type": "code",
      "execution_count": 51,
      "id": "30faf21b",
      "metadata": {
        "id": "30faf21b"
      },
      "outputs": [],
      "source": [
        "rename_dict = {'Account type': 'account_type','Duration of Credit (month)': 'credit_duration(month)',\n",
        "               'Payment Status of Previous Credit':'payment_status_of_previous_loan','Purpose':'loan_purpose',\n",
        "               'Credit Amount':'credit_amount','Savings type':'savings_type',\n",
        "               'Length of current employment':'duration_of_current_employment',\n",
        "               'Instalment per cent':'installment_percent','Marital Status':'marital_status',\n",
        "               'Guarantors':'guarantors','Duration in Current address':'duration_in_current_address',\n",
        "               'Most valuable available asset':'most_valuable_asset','Age':'age',\n",
        "               'Concurrent Credits':'concurrent_credits','Type of apartment':'type_of_apartment',\n",
        "               'No of Credits at this Bank':'no_of_credits_at_the_bank','Occupation':'occupation',\n",
        "               'No of dependents':'no_of_dependents','Telephone':'telephone','Foreign Worker':'foreign_worker'}\n",
        "dff = dff.rename(columns=rename_dict)\n"
      ]
    },
    {
      "cell_type": "markdown",
      "id": "dcd747c1",
      "metadata": {
        "id": "dcd747c1"
      },
      "source": [
        "#### 2.1.4 preview data"
      ]
    },
    {
      "cell_type": "code",
      "execution_count": 52,
      "id": "28c70780",
      "metadata": {
        "colab": {
          "base_uri": "https://localhost:8080/",
          "height": 192
        },
        "id": "28c70780",
        "outputId": "b8548f2c-3778-4e72-c617-24a446c6fcbb"
      },
      "outputs": [
        {
          "output_type": "execute_result",
          "data": {
            "text/plain": [
              "   user_id  label  account_type  credit_duration(month)  \\\n",
              "0   586266      0             1                      18   \n",
              "1   392565      0             1                       9   \n",
              "2   204665      0             2                      12   \n",
              "\n",
              "   payment_status_of_previous_loan  loan_purpose  credit_amount  savings_type  \\\n",
              "0                                4             2           1049             1   \n",
              "1                                4             0           2799             1   \n",
              "2                                2             9            841             2   \n",
              "\n",
              "   duration_of_current_employment  installment_percent  ...  \\\n",
              "0                               2                    4  ...   \n",
              "1                               3                    2  ...   \n",
              "2                               4                    2  ...   \n",
              "\n",
              "   duration_in_current_address  most_valuable_asset  age  concurrent_credits  \\\n",
              "0                            4                    2   21                   3   \n",
              "1                            2                    1   36                   3   \n",
              "2                            4                    1   23                   3   \n",
              "\n",
              "   type_of_apartment  no_of_credits_at_the_bank  occupation  no_of_dependents  \\\n",
              "0                  1                          1           3                 1   \n",
              "1                  1                          2           3                 2   \n",
              "2                  1                          1           2                 1   \n",
              "\n",
              "   telephone  foreign_worker  \n",
              "0          1               1  \n",
              "1          1               1  \n",
              "2          1               1  \n",
              "\n",
              "[3 rows x 22 columns]"
            ],
            "text/html": [
              "\n",
              "  <div id=\"df-93aef3bf-5f1b-448b-974d-f1120b6608e3\" class=\"colab-df-container\">\n",
              "    <div>\n",
              "<style scoped>\n",
              "    .dataframe tbody tr th:only-of-type {\n",
              "        vertical-align: middle;\n",
              "    }\n",
              "\n",
              "    .dataframe tbody tr th {\n",
              "        vertical-align: top;\n",
              "    }\n",
              "\n",
              "    .dataframe thead th {\n",
              "        text-align: right;\n",
              "    }\n",
              "</style>\n",
              "<table border=\"1\" class=\"dataframe\">\n",
              "  <thead>\n",
              "    <tr style=\"text-align: right;\">\n",
              "      <th></th>\n",
              "      <th>user_id</th>\n",
              "      <th>label</th>\n",
              "      <th>account_type</th>\n",
              "      <th>credit_duration(month)</th>\n",
              "      <th>payment_status_of_previous_loan</th>\n",
              "      <th>loan_purpose</th>\n",
              "      <th>credit_amount</th>\n",
              "      <th>savings_type</th>\n",
              "      <th>duration_of_current_employment</th>\n",
              "      <th>installment_percent</th>\n",
              "      <th>...</th>\n",
              "      <th>duration_in_current_address</th>\n",
              "      <th>most_valuable_asset</th>\n",
              "      <th>age</th>\n",
              "      <th>concurrent_credits</th>\n",
              "      <th>type_of_apartment</th>\n",
              "      <th>no_of_credits_at_the_bank</th>\n",
              "      <th>occupation</th>\n",
              "      <th>no_of_dependents</th>\n",
              "      <th>telephone</th>\n",
              "      <th>foreign_worker</th>\n",
              "    </tr>\n",
              "  </thead>\n",
              "  <tbody>\n",
              "    <tr>\n",
              "      <th>0</th>\n",
              "      <td>586266</td>\n",
              "      <td>0</td>\n",
              "      <td>1</td>\n",
              "      <td>18</td>\n",
              "      <td>4</td>\n",
              "      <td>2</td>\n",
              "      <td>1049</td>\n",
              "      <td>1</td>\n",
              "      <td>2</td>\n",
              "      <td>4</td>\n",
              "      <td>...</td>\n",
              "      <td>4</td>\n",
              "      <td>2</td>\n",
              "      <td>21</td>\n",
              "      <td>3</td>\n",
              "      <td>1</td>\n",
              "      <td>1</td>\n",
              "      <td>3</td>\n",
              "      <td>1</td>\n",
              "      <td>1</td>\n",
              "      <td>1</td>\n",
              "    </tr>\n",
              "    <tr>\n",
              "      <th>1</th>\n",
              "      <td>392565</td>\n",
              "      <td>0</td>\n",
              "      <td>1</td>\n",
              "      <td>9</td>\n",
              "      <td>4</td>\n",
              "      <td>0</td>\n",
              "      <td>2799</td>\n",
              "      <td>1</td>\n",
              "      <td>3</td>\n",
              "      <td>2</td>\n",
              "      <td>...</td>\n",
              "      <td>2</td>\n",
              "      <td>1</td>\n",
              "      <td>36</td>\n",
              "      <td>3</td>\n",
              "      <td>1</td>\n",
              "      <td>2</td>\n",
              "      <td>3</td>\n",
              "      <td>2</td>\n",
              "      <td>1</td>\n",
              "      <td>1</td>\n",
              "    </tr>\n",
              "    <tr>\n",
              "      <th>2</th>\n",
              "      <td>204665</td>\n",
              "      <td>0</td>\n",
              "      <td>2</td>\n",
              "      <td>12</td>\n",
              "      <td>2</td>\n",
              "      <td>9</td>\n",
              "      <td>841</td>\n",
              "      <td>2</td>\n",
              "      <td>4</td>\n",
              "      <td>2</td>\n",
              "      <td>...</td>\n",
              "      <td>4</td>\n",
              "      <td>1</td>\n",
              "      <td>23</td>\n",
              "      <td>3</td>\n",
              "      <td>1</td>\n",
              "      <td>1</td>\n",
              "      <td>2</td>\n",
              "      <td>1</td>\n",
              "      <td>1</td>\n",
              "      <td>1</td>\n",
              "    </tr>\n",
              "  </tbody>\n",
              "</table>\n",
              "<p>3 rows × 22 columns</p>\n",
              "</div>\n",
              "    <div class=\"colab-df-buttons\">\n",
              "\n",
              "  <div class=\"colab-df-container\">\n",
              "    <button class=\"colab-df-convert\" onclick=\"convertToInteractive('df-93aef3bf-5f1b-448b-974d-f1120b6608e3')\"\n",
              "            title=\"Convert this dataframe to an interactive table.\"\n",
              "            style=\"display:none;\">\n",
              "\n",
              "  <svg xmlns=\"http://www.w3.org/2000/svg\" height=\"24px\" viewBox=\"0 -960 960 960\">\n",
              "    <path d=\"M120-120v-720h720v720H120Zm60-500h600v-160H180v160Zm220 220h160v-160H400v160Zm0 220h160v-160H400v160ZM180-400h160v-160H180v160Zm440 0h160v-160H620v160ZM180-180h160v-160H180v160Zm440 0h160v-160H620v160Z\"/>\n",
              "  </svg>\n",
              "    </button>\n",
              "\n",
              "  <style>\n",
              "    .colab-df-container {\n",
              "      display:flex;\n",
              "      gap: 12px;\n",
              "    }\n",
              "\n",
              "    .colab-df-convert {\n",
              "      background-color: #E8F0FE;\n",
              "      border: none;\n",
              "      border-radius: 50%;\n",
              "      cursor: pointer;\n",
              "      display: none;\n",
              "      fill: #1967D2;\n",
              "      height: 32px;\n",
              "      padding: 0 0 0 0;\n",
              "      width: 32px;\n",
              "    }\n",
              "\n",
              "    .colab-df-convert:hover {\n",
              "      background-color: #E2EBFA;\n",
              "      box-shadow: 0px 1px 2px rgba(60, 64, 67, 0.3), 0px 1px 3px 1px rgba(60, 64, 67, 0.15);\n",
              "      fill: #174EA6;\n",
              "    }\n",
              "\n",
              "    .colab-df-buttons div {\n",
              "      margin-bottom: 4px;\n",
              "    }\n",
              "\n",
              "    [theme=dark] .colab-df-convert {\n",
              "      background-color: #3B4455;\n",
              "      fill: #D2E3FC;\n",
              "    }\n",
              "\n",
              "    [theme=dark] .colab-df-convert:hover {\n",
              "      background-color: #434B5C;\n",
              "      box-shadow: 0px 1px 3px 1px rgba(0, 0, 0, 0.15);\n",
              "      filter: drop-shadow(0px 1px 2px rgba(0, 0, 0, 0.3));\n",
              "      fill: #FFFFFF;\n",
              "    }\n",
              "  </style>\n",
              "\n",
              "    <script>\n",
              "      const buttonEl =\n",
              "        document.querySelector('#df-93aef3bf-5f1b-448b-974d-f1120b6608e3 button.colab-df-convert');\n",
              "      buttonEl.style.display =\n",
              "        google.colab.kernel.accessAllowed ? 'block' : 'none';\n",
              "\n",
              "      async function convertToInteractive(key) {\n",
              "        const element = document.querySelector('#df-93aef3bf-5f1b-448b-974d-f1120b6608e3');\n",
              "        const dataTable =\n",
              "          await google.colab.kernel.invokeFunction('convertToInteractive',\n",
              "                                                    [key], {});\n",
              "        if (!dataTable) return;\n",
              "\n",
              "        const docLinkHtml = 'Like what you see? Visit the ' +\n",
              "          '<a target=\"_blank\" href=https://colab.research.google.com/notebooks/data_table.ipynb>data table notebook</a>'\n",
              "          + ' to learn more about interactive tables.';\n",
              "        element.innerHTML = '';\n",
              "        dataTable['output_type'] = 'display_data';\n",
              "        await google.colab.output.renderOutput(dataTable, element);\n",
              "        const docLink = document.createElement('div');\n",
              "        docLink.innerHTML = docLinkHtml;\n",
              "        element.appendChild(docLink);\n",
              "      }\n",
              "    </script>\n",
              "  </div>\n",
              "\n",
              "\n",
              "<div id=\"df-7a2221e8-58d6-4f73-97b1-ad1c91c0d167\">\n",
              "  <button class=\"colab-df-quickchart\" onclick=\"quickchart('df-7a2221e8-58d6-4f73-97b1-ad1c91c0d167')\"\n",
              "            title=\"Suggest charts.\"\n",
              "            style=\"display:none;\">\n",
              "\n",
              "<svg xmlns=\"http://www.w3.org/2000/svg\" height=\"24px\"viewBox=\"0 0 24 24\"\n",
              "     width=\"24px\">\n",
              "    <g>\n",
              "        <path d=\"M19 3H5c-1.1 0-2 .9-2 2v14c0 1.1.9 2 2 2h14c1.1 0 2-.9 2-2V5c0-1.1-.9-2-2-2zM9 17H7v-7h2v7zm4 0h-2V7h2v10zm4 0h-2v-4h2v4z\"/>\n",
              "    </g>\n",
              "</svg>\n",
              "  </button>\n",
              "\n",
              "<style>\n",
              "  .colab-df-quickchart {\n",
              "      --bg-color: #E8F0FE;\n",
              "      --fill-color: #1967D2;\n",
              "      --hover-bg-color: #E2EBFA;\n",
              "      --hover-fill-color: #174EA6;\n",
              "      --disabled-fill-color: #AAA;\n",
              "      --disabled-bg-color: #DDD;\n",
              "  }\n",
              "\n",
              "  [theme=dark] .colab-df-quickchart {\n",
              "      --bg-color: #3B4455;\n",
              "      --fill-color: #D2E3FC;\n",
              "      --hover-bg-color: #434B5C;\n",
              "      --hover-fill-color: #FFFFFF;\n",
              "      --disabled-bg-color: #3B4455;\n",
              "      --disabled-fill-color: #666;\n",
              "  }\n",
              "\n",
              "  .colab-df-quickchart {\n",
              "    background-color: var(--bg-color);\n",
              "    border: none;\n",
              "    border-radius: 50%;\n",
              "    cursor: pointer;\n",
              "    display: none;\n",
              "    fill: var(--fill-color);\n",
              "    height: 32px;\n",
              "    padding: 0;\n",
              "    width: 32px;\n",
              "  }\n",
              "\n",
              "  .colab-df-quickchart:hover {\n",
              "    background-color: var(--hover-bg-color);\n",
              "    box-shadow: 0 1px 2px rgba(60, 64, 67, 0.3), 0 1px 3px 1px rgba(60, 64, 67, 0.15);\n",
              "    fill: var(--button-hover-fill-color);\n",
              "  }\n",
              "\n",
              "  .colab-df-quickchart-complete:disabled,\n",
              "  .colab-df-quickchart-complete:disabled:hover {\n",
              "    background-color: var(--disabled-bg-color);\n",
              "    fill: var(--disabled-fill-color);\n",
              "    box-shadow: none;\n",
              "  }\n",
              "\n",
              "  .colab-df-spinner {\n",
              "    border: 2px solid var(--fill-color);\n",
              "    border-color: transparent;\n",
              "    border-bottom-color: var(--fill-color);\n",
              "    animation:\n",
              "      spin 1s steps(1) infinite;\n",
              "  }\n",
              "\n",
              "  @keyframes spin {\n",
              "    0% {\n",
              "      border-color: transparent;\n",
              "      border-bottom-color: var(--fill-color);\n",
              "      border-left-color: var(--fill-color);\n",
              "    }\n",
              "    20% {\n",
              "      border-color: transparent;\n",
              "      border-left-color: var(--fill-color);\n",
              "      border-top-color: var(--fill-color);\n",
              "    }\n",
              "    30% {\n",
              "      border-color: transparent;\n",
              "      border-left-color: var(--fill-color);\n",
              "      border-top-color: var(--fill-color);\n",
              "      border-right-color: var(--fill-color);\n",
              "    }\n",
              "    40% {\n",
              "      border-color: transparent;\n",
              "      border-right-color: var(--fill-color);\n",
              "      border-top-color: var(--fill-color);\n",
              "    }\n",
              "    60% {\n",
              "      border-color: transparent;\n",
              "      border-right-color: var(--fill-color);\n",
              "    }\n",
              "    80% {\n",
              "      border-color: transparent;\n",
              "      border-right-color: var(--fill-color);\n",
              "      border-bottom-color: var(--fill-color);\n",
              "    }\n",
              "    90% {\n",
              "      border-color: transparent;\n",
              "      border-bottom-color: var(--fill-color);\n",
              "    }\n",
              "  }\n",
              "</style>\n",
              "\n",
              "  <script>\n",
              "    async function quickchart(key) {\n",
              "      const quickchartButtonEl =\n",
              "        document.querySelector('#' + key + ' button');\n",
              "      quickchartButtonEl.disabled = true;  // To prevent multiple clicks.\n",
              "      quickchartButtonEl.classList.add('colab-df-spinner');\n",
              "      try {\n",
              "        const charts = await google.colab.kernel.invokeFunction(\n",
              "            'suggestCharts', [key], {});\n",
              "      } catch (error) {\n",
              "        console.error('Error during call to suggestCharts:', error);\n",
              "      }\n",
              "      quickchartButtonEl.classList.remove('colab-df-spinner');\n",
              "      quickchartButtonEl.classList.add('colab-df-quickchart-complete');\n",
              "    }\n",
              "    (() => {\n",
              "      let quickchartButtonEl =\n",
              "        document.querySelector('#df-7a2221e8-58d6-4f73-97b1-ad1c91c0d167 button');\n",
              "      quickchartButtonEl.style.display =\n",
              "        google.colab.kernel.accessAllowed ? 'block' : 'none';\n",
              "    })();\n",
              "  </script>\n",
              "</div>\n",
              "    </div>\n",
              "  </div>\n"
            ]
          },
          "metadata": {},
          "execution_count": 52
        }
      ],
      "source": [
        "dff.head(3)"
      ]
    },
    {
      "cell_type": "markdown",
      "id": "b6238573",
      "metadata": {
        "id": "b6238573"
      },
      "source": [
        "#### Shape of dataset"
      ]
    },
    {
      "cell_type": "code",
      "execution_count": null,
      "id": "07c77ebe",
      "metadata": {
        "id": "07c77ebe",
        "outputId": "ff41df47-13ab-4b8f-bfaf-7c2f61a28342"
      },
      "outputs": [
        {
          "data": {
            "text/plain": [
              "(1000, 22)"
            ]
          },
          "execution_count": 10,
          "metadata": {},
          "output_type": "execute_result"
        }
      ],
      "source": [
        "dff.shape"
      ]
    },
    {
      "cell_type": "markdown",
      "id": "170c7df7",
      "metadata": {
        "id": "170c7df7"
      },
      "source": [
        "### 2.2 Dataset information\n",
        "\n",
        "- user_id : unique ID identifying each customer (primary key)\n",
        "- label: information on loan repayability after loan cycle ===> nominal variable (target variable)\n",
        "- account_type: type of customers' account ===> nominal variable\n",
        "- credit_duration: tenure of loan in mounts ===> continuous variable\n",
        "- payment_status_of_previous_loan: Status of the customer’s last loan; paid, active, overdue or defaulted ===> nominal variable\n",
        "- loan_purpose: Reason for seeking loan ===> nominal variable\n",
        "- credit_amount: Loan Amount ===> continuous variable\n",
        "- savings_type: Type of savings ===> nominal variable\n",
        "- duration_of_current_employment: How long customer has been employed at current workplace ===> continuous variable\n",
        "- installent_percent: % amount to be paid in each repayment cycle ===> continuous variable\n",
        "- marital_status: Is the customer married or single? ===> nominal variable\n",
        "- guarantors: Number of persons vouching for the customer ===> continuous variable\n",
        "- duration_in_current_address: How long customer has lived in current address in years ===> continuous variable\n",
        "- most_valuable_asset: Type of customer's most valuable asset classified according to value === ordinal variable\n",
        "- age: How old the customer is as at loan application ===> continuous variable\n",
        "- concurrent_credits: total existing amount owed by customer ===> continuous variable\n",
        "- type_of_apartment: Does customer stay in rented or owned apartment? ===> nominal variable\n",
        "- no_of_credits_at_the_bank: No of previous loans take by customer ===> continuous variable\n",
        "- occupation: Customer's occupation ===> ordinal variable\n",
        "- no_of_dependents: Number of person's under the customer's care ===> continuous variable\n",
        "- telephone: Phone number of the customer\n",
        "- foreign_worker: Is customer a national or foreigner in the country? ===> nominal variable"
      ]
    },
    {
      "cell_type": "markdown",
      "id": "0634289c",
      "metadata": {
        "id": "0634289c"
      },
      "source": [
        "### 3: Data Quality Checks\n",
        "\n",
        "- Check Missing values\n",
        "- Check Duplicates\n",
        "- Check data type\n",
        "- Check the number of unique values of each column\n",
        "- Check statistics of data set\n",
        "- Check various categories present in the different categorical column"
      ]
    },
    {
      "cell_type": "markdown",
      "id": "7189052b",
      "metadata": {
        "id": "7189052b"
      },
      "source": [
        "### 3.1 Check Missing values"
      ]
    },
    {
      "cell_type": "code",
      "execution_count": null,
      "id": "7569a386",
      "metadata": {
        "id": "7569a386",
        "outputId": "4414b040-488a-4075-83ac-4c5c3bdf830a"
      },
      "outputs": [
        {
          "data": {
            "text/plain": [
              "user_id                            0\n",
              "label                              0\n",
              "account_type                       0\n",
              "credit_duration(month)             0\n",
              "payment_status_of_previous_loan    0\n",
              "loan_purpose                       0\n",
              "credit_amount                      0\n",
              "savings_type                       0\n",
              "duration_of_current_employment     0\n",
              "installment_percent                0\n",
              "marital_status                     0\n",
              "guarantors                         0\n",
              "duration_in_current_address        0\n",
              "most_valuable_asset                0\n",
              "age                                0\n",
              "concurrent_credits                 0\n",
              "type_of_apartment                  0\n",
              "no_of_credits_at_the_bank          0\n",
              "occupation                         0\n",
              "no_of_dependents                   0\n",
              "telephone                          0\n",
              "foreign_worker                     0\n",
              "dtype: int64"
            ]
          },
          "execution_count": 10,
          "metadata": {},
          "output_type": "execute_result"
        }
      ],
      "source": [
        "dff.isna().sum()"
      ]
    },
    {
      "cell_type": "markdown",
      "id": "7b923b9e",
      "metadata": {
        "id": "7b923b9e"
      },
      "source": [
        "- There are no missing values in the data set"
      ]
    },
    {
      "cell_type": "markdown",
      "id": "65daee48",
      "metadata": {
        "id": "65daee48"
      },
      "source": [
        "### 3.2 Check Duplicates"
      ]
    },
    {
      "cell_type": "code",
      "execution_count": null,
      "id": "009d0a97",
      "metadata": {
        "id": "009d0a97",
        "outputId": "14e1293f-aa5e-48e1-e685-2b73d64cc111"
      },
      "outputs": [
        {
          "data": {
            "text/plain": [
              "0"
            ]
          },
          "execution_count": 11,
          "metadata": {},
          "output_type": "execute_result"
        }
      ],
      "source": [
        "dff.duplicated().sum()"
      ]
    },
    {
      "cell_type": "markdown",
      "id": "d6b633b1",
      "metadata": {
        "id": "d6b633b1"
      },
      "source": [
        "#### There are no duplicates  values in the data set"
      ]
    },
    {
      "cell_type": "markdown",
      "id": "b0061afc",
      "metadata": {
        "id": "b0061afc"
      },
      "source": [
        "### 3.3 Check data types"
      ]
    },
    {
      "cell_type": "code",
      "execution_count": null,
      "id": "1ebea471",
      "metadata": {
        "id": "1ebea471",
        "outputId": "1b022f51-dcf4-4e28-a34f-77ba92e10c08"
      },
      "outputs": [
        {
          "name": "stdout",
          "output_type": "stream",
          "text": [
            "<class 'pandas.core.frame.DataFrame'>\n",
            "RangeIndex: 1000 entries, 0 to 999\n",
            "Data columns (total 22 columns):\n",
            " #   Column                             Non-Null Count  Dtype\n",
            "---  ------                             --------------  -----\n",
            " 0   user_id                            1000 non-null   int64\n",
            " 1   label                              1000 non-null   int64\n",
            " 2   Account type                       1000 non-null   int64\n",
            " 3   Duration of Credit (month)         1000 non-null   int64\n",
            " 4   Payment Status of Previous Credit  1000 non-null   int64\n",
            " 5   Purpose                            1000 non-null   int64\n",
            " 6   Credit Amount                      1000 non-null   int64\n",
            " 7   Savings type                       1000 non-null   int64\n",
            " 8   Length of current employment       1000 non-null   int64\n",
            " 9   Instalment per cent                1000 non-null   int64\n",
            " 10  Marital Status                     1000 non-null   int64\n",
            " 11  Guarantors                         1000 non-null   int64\n",
            " 12  Duration in Current address        1000 non-null   int64\n",
            " 13  Most valuable available asset      1000 non-null   int64\n",
            " 14  Age                                1000 non-null   int64\n",
            " 15  Concurrent Credits                 1000 non-null   int64\n",
            " 16  Type of apartment                  1000 non-null   int64\n",
            " 17  No of Credits at this Bank         1000 non-null   int64\n",
            " 18  Occupation                         1000 non-null   int64\n",
            " 19  No of dependents                   1000 non-null   int64\n",
            " 20  Telephone                          1000 non-null   int64\n",
            " 21  Foreign Worker                     1000 non-null   int64\n",
            "dtypes: int64(22)\n",
            "memory usage: 172.0 KB\n"
          ]
        }
      ],
      "source": [
        "# Check Null and Dtypes\n",
        "df.info()"
      ]
    },
    {
      "cell_type": "markdown",
      "id": "6c095417",
      "metadata": {
        "id": "6c095417"
      },
      "source": [
        "- We observe that the raw dataset represented data types for all columns as \"integers\". However, this shouldn't be so because several columns are categorical e.g., saving_type, marital_status, etc. Therefore, data preprocessing will be performed to ensure appropriate data types are set for each column."
      ]
    },
    {
      "cell_type": "markdown",
      "id": "a12c6398",
      "metadata": {
        "id": "a12c6398"
      },
      "source": [
        "#### 3.3.1: Setting appropriate data types"
      ]
    },
    {
      "cell_type": "code",
      "execution_count": 53,
      "id": "a7234a94",
      "metadata": {
        "id": "a7234a94"
      },
      "outputs": [],
      "source": [
        "# create two dataframes for categorical and continuous variables, apply data types and join both dataframes based on user_id\n",
        "\n",
        "df_numerical = dff.drop(['account_type','occupation','payment_status_of_previous_loan','loan_purpose','account_type',\n",
        "                 'savings_type','marital_status','most_valuable_asset','type_of_apartment','foreign_worker'],\n",
        "                 axis=1)\n",
        "df_categorical = dff[['account_type','user_id','payment_status_of_previous_loan','loan_purpose','savings_type',\n",
        "                          'marital_status','most_valuable_asset','type_of_apartment','foreign_worker','occupation']]\n",
        "\n",
        "desired_dtype = object\n",
        "df_categorical = df_categorical.astype({col: desired_dtype for col in df_categorical.columns})\n",
        "\n",
        "df_categorical['user_id'] = df_categorical['user_id'].astype('int64')\n",
        "\n",
        "new_df = pd.merge(df_numerical, df_categorical, on='user_id', how='inner')\n",
        "\n",
        "new_df = new_df.drop(['user_id','telephone'],axis=1)"
      ]
    },
    {
      "cell_type": "markdown",
      "id": "deea30fe",
      "metadata": {
        "id": "deea30fe"
      },
      "source": [
        "#### 3.3.2: Confirm Data Types"
      ]
    },
    {
      "cell_type": "code",
      "execution_count": null,
      "id": "04eb8767",
      "metadata": {
        "id": "04eb8767",
        "outputId": "9f03809e-07a6-4716-9d97-95708752a43b"
      },
      "outputs": [
        {
          "name": "stdout",
          "output_type": "stream",
          "text": [
            "<class 'pandas.core.frame.DataFrame'>\n",
            "Int64Index: 1000 entries, 0 to 999\n",
            "Data columns (total 20 columns):\n",
            " #   Column                           Non-Null Count  Dtype \n",
            "---  ------                           --------------  ----- \n",
            " 0   label                            1000 non-null   int64 \n",
            " 1   credit_duration(month)           1000 non-null   int64 \n",
            " 2   credit_amount                    1000 non-null   int64 \n",
            " 3   duration_of_current_employment   1000 non-null   int64 \n",
            " 4   installment_percent              1000 non-null   int64 \n",
            " 5   guarantors                       1000 non-null   int64 \n",
            " 6   duration_in_current_address      1000 non-null   int64 \n",
            " 7   age                              1000 non-null   int64 \n",
            " 8   concurrent_credits               1000 non-null   int64 \n",
            " 9   no_of_credits_at_the_bank        1000 non-null   int64 \n",
            " 10  no_of_dependents                 1000 non-null   int64 \n",
            " 11  account_type                     1000 non-null   object\n",
            " 12  payment_status_of_previous_loan  1000 non-null   object\n",
            " 13  loan_purpose                     1000 non-null   object\n",
            " 14  savings_type                     1000 non-null   object\n",
            " 15  marital_status                   1000 non-null   object\n",
            " 16  most_valuable_asset              1000 non-null   object\n",
            " 17  type_of_apartment                1000 non-null   object\n",
            " 18  foreign_worker                   1000 non-null   object\n",
            " 19  occupation                       1000 non-null   object\n",
            "dtypes: int64(11), object(9)\n",
            "memory usage: 164.1+ KB\n"
          ]
        }
      ],
      "source": [
        "new_df.info()"
      ]
    },
    {
      "cell_type": "markdown",
      "id": "ba82f1e6",
      "metadata": {
        "id": "ba82f1e6"
      },
      "source": [
        "### 3.4: Checking unique values of for categorical columns"
      ]
    },
    {
      "cell_type": "code",
      "execution_count": null,
      "id": "862dca8b",
      "metadata": {
        "id": "862dca8b",
        "outputId": "85a8d8b1-10cb-4455-c0b2-1f7418452ff5"
      },
      "outputs": [
        {
          "data": {
            "text/plain": [
              "label                                2\n",
              "credit_duration(month)              33\n",
              "credit_amount                      923\n",
              "duration_of_current_employment       5\n",
              "installment_percent                  4\n",
              "guarantors                           3\n",
              "duration_in_current_address          4\n",
              "age                                 53\n",
              "concurrent_credits                   3\n",
              "no_of_credits_at_the_bank            4\n",
              "no_of_dependents                     2\n",
              "account_type                         4\n",
              "payment_status_of_previous_loan      5\n",
              "loan_purpose                        10\n",
              "savings_type                         5\n",
              "marital_status                       4\n",
              "most_valuable_asset                  4\n",
              "type_of_apartment                    3\n",
              "foreign_worker                       2\n",
              "occupation                           4\n",
              "dtype: int64"
            ]
          },
          "execution_count": 14,
          "metadata": {},
          "output_type": "execute_result"
        }
      ],
      "source": [
        "new_df.nunique()"
      ]
    },
    {
      "cell_type": "code",
      "execution_count": null,
      "id": "1944999f",
      "metadata": {
        "id": "1944999f",
        "outputId": "f8d254f7-ba36-4a91-f4e8-325db1eb5290"
      },
      "outputs": [
        {
          "data": {
            "text/html": [
              "<div>\n",
              "<style scoped>\n",
              "    .dataframe tbody tr th:only-of-type {\n",
              "        vertical-align: middle;\n",
              "    }\n",
              "\n",
              "    .dataframe tbody tr th {\n",
              "        vertical-align: top;\n",
              "    }\n",
              "\n",
              "    .dataframe thead th {\n",
              "        text-align: right;\n",
              "    }\n",
              "</style>\n",
              "<table border=\"1\" class=\"dataframe\">\n",
              "  <thead>\n",
              "    <tr style=\"text-align: right;\">\n",
              "      <th></th>\n",
              "      <th>label</th>\n",
              "      <th>credit_duration(month)</th>\n",
              "      <th>credit_amount</th>\n",
              "      <th>duration_of_current_employment</th>\n",
              "      <th>installment_percent</th>\n",
              "      <th>guarantors</th>\n",
              "      <th>duration_in_current_address</th>\n",
              "      <th>age</th>\n",
              "      <th>concurrent_credits</th>\n",
              "      <th>no_of_credits_at_the_bank</th>\n",
              "      <th>no_of_dependents</th>\n",
              "    </tr>\n",
              "  </thead>\n",
              "  <tbody>\n",
              "    <tr>\n",
              "      <th>count</th>\n",
              "      <td>1000.000000</td>\n",
              "      <td>1000.000000</td>\n",
              "      <td>1000.00000</td>\n",
              "      <td>1000.000000</td>\n",
              "      <td>1000.000000</td>\n",
              "      <td>1000.000000</td>\n",
              "      <td>1000.000000</td>\n",
              "      <td>1000.00000</td>\n",
              "      <td>1000.000000</td>\n",
              "      <td>1000.000000</td>\n",
              "      <td>1000.000000</td>\n",
              "    </tr>\n",
              "    <tr>\n",
              "      <th>mean</th>\n",
              "      <td>0.300000</td>\n",
              "      <td>20.903000</td>\n",
              "      <td>3271.24800</td>\n",
              "      <td>3.384000</td>\n",
              "      <td>2.973000</td>\n",
              "      <td>1.145000</td>\n",
              "      <td>2.845000</td>\n",
              "      <td>35.54200</td>\n",
              "      <td>2.675000</td>\n",
              "      <td>1.407000</td>\n",
              "      <td>1.155000</td>\n",
              "    </tr>\n",
              "    <tr>\n",
              "      <th>std</th>\n",
              "      <td>0.458487</td>\n",
              "      <td>12.058814</td>\n",
              "      <td>2822.75176</td>\n",
              "      <td>1.208306</td>\n",
              "      <td>1.118715</td>\n",
              "      <td>0.477706</td>\n",
              "      <td>1.103718</td>\n",
              "      <td>11.35267</td>\n",
              "      <td>0.705601</td>\n",
              "      <td>0.577654</td>\n",
              "      <td>0.362086</td>\n",
              "    </tr>\n",
              "    <tr>\n",
              "      <th>min</th>\n",
              "      <td>0.000000</td>\n",
              "      <td>4.000000</td>\n",
              "      <td>250.00000</td>\n",
              "      <td>1.000000</td>\n",
              "      <td>1.000000</td>\n",
              "      <td>1.000000</td>\n",
              "      <td>1.000000</td>\n",
              "      <td>19.00000</td>\n",
              "      <td>1.000000</td>\n",
              "      <td>1.000000</td>\n",
              "      <td>1.000000</td>\n",
              "    </tr>\n",
              "    <tr>\n",
              "      <th>25%</th>\n",
              "      <td>0.000000</td>\n",
              "      <td>12.000000</td>\n",
              "      <td>1365.50000</td>\n",
              "      <td>3.000000</td>\n",
              "      <td>2.000000</td>\n",
              "      <td>1.000000</td>\n",
              "      <td>2.000000</td>\n",
              "      <td>27.00000</td>\n",
              "      <td>3.000000</td>\n",
              "      <td>1.000000</td>\n",
              "      <td>1.000000</td>\n",
              "    </tr>\n",
              "    <tr>\n",
              "      <th>50%</th>\n",
              "      <td>0.000000</td>\n",
              "      <td>18.000000</td>\n",
              "      <td>2319.50000</td>\n",
              "      <td>3.000000</td>\n",
              "      <td>3.000000</td>\n",
              "      <td>1.000000</td>\n",
              "      <td>3.000000</td>\n",
              "      <td>33.00000</td>\n",
              "      <td>3.000000</td>\n",
              "      <td>1.000000</td>\n",
              "      <td>1.000000</td>\n",
              "    </tr>\n",
              "    <tr>\n",
              "      <th>75%</th>\n",
              "      <td>1.000000</td>\n",
              "      <td>24.000000</td>\n",
              "      <td>3972.25000</td>\n",
              "      <td>5.000000</td>\n",
              "      <td>4.000000</td>\n",
              "      <td>1.000000</td>\n",
              "      <td>4.000000</td>\n",
              "      <td>42.00000</td>\n",
              "      <td>3.000000</td>\n",
              "      <td>2.000000</td>\n",
              "      <td>1.000000</td>\n",
              "    </tr>\n",
              "    <tr>\n",
              "      <th>max</th>\n",
              "      <td>1.000000</td>\n",
              "      <td>72.000000</td>\n",
              "      <td>18424.00000</td>\n",
              "      <td>5.000000</td>\n",
              "      <td>4.000000</td>\n",
              "      <td>3.000000</td>\n",
              "      <td>4.000000</td>\n",
              "      <td>75.00000</td>\n",
              "      <td>3.000000</td>\n",
              "      <td>4.000000</td>\n",
              "      <td>2.000000</td>\n",
              "    </tr>\n",
              "  </tbody>\n",
              "</table>\n",
              "</div>"
            ],
            "text/plain": [
              "             label  credit_duration(month)  credit_amount  \\\n",
              "count  1000.000000             1000.000000     1000.00000   \n",
              "mean      0.300000               20.903000     3271.24800   \n",
              "std       0.458487               12.058814     2822.75176   \n",
              "min       0.000000                4.000000      250.00000   \n",
              "25%       0.000000               12.000000     1365.50000   \n",
              "50%       0.000000               18.000000     2319.50000   \n",
              "75%       1.000000               24.000000     3972.25000   \n",
              "max       1.000000               72.000000    18424.00000   \n",
              "\n",
              "       duration_of_current_employment  installment_percent   guarantors  \\\n",
              "count                     1000.000000          1000.000000  1000.000000   \n",
              "mean                         3.384000             2.973000     1.145000   \n",
              "std                          1.208306             1.118715     0.477706   \n",
              "min                          1.000000             1.000000     1.000000   \n",
              "25%                          3.000000             2.000000     1.000000   \n",
              "50%                          3.000000             3.000000     1.000000   \n",
              "75%                          5.000000             4.000000     1.000000   \n",
              "max                          5.000000             4.000000     3.000000   \n",
              "\n",
              "       duration_in_current_address         age  concurrent_credits  \\\n",
              "count                  1000.000000  1000.00000         1000.000000   \n",
              "mean                      2.845000    35.54200            2.675000   \n",
              "std                       1.103718    11.35267            0.705601   \n",
              "min                       1.000000    19.00000            1.000000   \n",
              "25%                       2.000000    27.00000            3.000000   \n",
              "50%                       3.000000    33.00000            3.000000   \n",
              "75%                       4.000000    42.00000            3.000000   \n",
              "max                       4.000000    75.00000            3.000000   \n",
              "\n",
              "       no_of_credits_at_the_bank  no_of_dependents  \n",
              "count                1000.000000       1000.000000  \n",
              "mean                    1.407000          1.155000  \n",
              "std                     0.577654          0.362086  \n",
              "min                     1.000000          1.000000  \n",
              "25%                     1.000000          1.000000  \n",
              "50%                     1.000000          1.000000  \n",
              "75%                     2.000000          1.000000  \n",
              "max                     4.000000          2.000000  "
            ]
          },
          "execution_count": 15,
          "metadata": {},
          "output_type": "execute_result"
        }
      ],
      "source": [
        "new_df.describe()"
      ]
    },
    {
      "cell_type": "markdown",
      "id": "761d8d0d",
      "metadata": {
        "id": "761d8d0d"
      },
      "source": [
        "#### Insight\n",
        "- From above description of numerical data, mean values for duration_of_current_employment, installment_percent, age, concurrent_credits, guarantors,duration_in_current_address, no_of_credits_at_the_bank\toccupation, no_of_dependents are close while the remaining are very far off\n",
        "- Standard deviations for age, credit_duration and credit_amount appear to veer off while the others are very close."
      ]
    },
    {
      "cell_type": "markdown",
      "id": "50124cdc",
      "metadata": {
        "id": "50124cdc"
      },
      "source": [
        "### 3.5: Exploring Data Analysis"
      ]
    },
    {
      "cell_type": "markdown",
      "id": "b784bdc9",
      "metadata": {
        "id": "b784bdc9"
      },
      "source": [
        "Hypothesis\n",
        "- Applicants who have stayed longer in there current employment have regular flow of income are likely to pay and stand higher chance for approval\n",
        "- Applicants with higher ranking of \"most valuable asset\" have higher chances\n",
        "- Applicants who've repaid old loans stand higher chances\n",
        "- Loan approval should also depend on the loan amount. If the loan amount is less, chances of loan approval should be high.\n",
        "- The lesser the monthly interest to be repaid, the higher the chances of loan approval"
      ]
    },
    {
      "cell_type": "markdown",
      "id": "9bcaddb6",
      "metadata": {
        "id": "9bcaddb6"
      },
      "source": [
        "#### 3.5.1: Univariate Analysis"
      ]
    },
    {
      "cell_type": "markdown",
      "id": "cf17d428",
      "metadata": {
        "id": "cf17d428"
      },
      "source": [
        "##### Target variables"
      ]
    },
    {
      "cell_type": "code",
      "execution_count": null,
      "id": "2167d667",
      "metadata": {
        "id": "2167d667",
        "outputId": "f7f72714-5576-4e8c-e9ac-4a4d82763871"
      },
      "outputs": [
        {
          "data": {
            "text/plain": [
              "<Axes: title={'center': 'label'}>"
            ]
          },
          "execution_count": 89,
          "metadata": {},
          "output_type": "execute_result"
        },
        {
          "data": {
            "image/png": "[encoded data removed]",
            "text/plain": [
              "<Figure size 750x500 with 1 Axes>"
            ]
          },
          "metadata": {},
          "output_type": "display_data"
        }
      ],
      "source": [
        "# We will look at the count of loans approved and rejected in the train datasets\n",
        "new_df['label'].value_counts(normalize=True).plot.bar(figsize=(7.5,5),\n",
        "                                                     title='label')\n",
        "# 70% were bad and 30% were good"
      ]
    },
    {
      "cell_type": "markdown",
      "id": "c5b1899a",
      "metadata": {
        "id": "c5b1899a"
      },
      "source": [
        "##### Insight\n",
        "- 70% of the target variable was labeled bad and 30% labeled good. The disparity could influence ML algorithm"
      ]
    },
    {
      "cell_type": "markdown",
      "id": "c1fb357a",
      "metadata": {
        "id": "c1fb357a"
      },
      "source": [
        "##### Independent Variable (Nominal)"
      ]
    },
    {
      "cell_type": "code",
      "execution_count": null,
      "id": "87e4ec13",
      "metadata": {
        "id": "87e4ec13",
        "outputId": "92addff2-857d-49a0-ef81-193933c60edf"
      },
      "outputs": [
        {
          "data": {
            "image/png": "[encoded data removed]",
            "text/plain": [
              "<Figure size 1000x1000 with 8 Axes>"
            ]
          },
          "metadata": {},
          "output_type": "display_data"
        }
      ],
      "source": [
        "lists = ['account_type','label','payment_status_of_previous_loan','loan_purpose',\n",
        "         'savings_type','marital_status','type_of_apartment','foreign_worker']\n",
        "plt.figure(1)\n",
        "for i in range(len(lists)):\n",
        "    plt.subplot(3,3,i+1)\n",
        "    new_df[lists[i]].value_counts(normalize=True).plot.bar(figsize=(10,10),title=lists[i])\n",
        "\n",
        "plt.savefig('eda_for_independent_categories')\n",
        "plt.show()"
      ]
    },
    {
      "cell_type": "markdown",
      "id": "add42dd0",
      "metadata": {
        "id": "add42dd0"
      },
      "source": [
        "##### Insights\n",
        "- The plots above reveals percentage of each groups in each nominal variable. For foreign worker, customers labeled with \"1\" were over 98% while customers labeled \"2\" were just 2%. Similar interpretation can be applied to other plots"
      ]
    },
    {
      "cell_type": "markdown",
      "id": "91ad535d",
      "metadata": {
        "id": "91ad535d"
      },
      "source": [
        "##### Independent variables (ordinal)"
      ]
    },
    {
      "cell_type": "code",
      "execution_count": null,
      "id": "6ffeaad5",
      "metadata": {
        "id": "6ffeaad5",
        "outputId": "577c2639-9398-4133-fb3b-97d0eef28801"
      },
      "outputs": [
        {
          "data": {
            "image/png": "[encoded data removed]",
            "text/plain": [
              "<Figure size 2000x500 with 2 Axes>"
            ]
          },
          "metadata": {},
          "output_type": "display_data"
        }
      ],
      "source": [
        "ordinal = ['occupation','most_valuable_asset']\n",
        "plt.figure(1)\n",
        "for i in range(len(ordinal)):\n",
        "    plt.subplot(1,3,i+1)\n",
        "    new_df[ordinal[i]].value_counts(normalize=True).plot.bar(figsize=(20,5),title=ordinal[i])\n",
        "\n",
        "plt.show()"
      ]
    },
    {
      "cell_type": "markdown",
      "id": "eca37d6c",
      "metadata": {
        "id": "eca37d6c"
      },
      "source": [
        "##### Insights\n",
        "- Over 65% of the customers had an occupation labeled as \"3\", 20% of the customers had occupation labeled as \"2\", 16% of customers had occupation labeled as \"4\" and 4% of customers has occupation labeled as \"1\""
      ]
    },
    {
      "cell_type": "markdown",
      "id": "ececc457",
      "metadata": {
        "id": "ececc457"
      },
      "source": [
        "##### Independent variable (Numerical)"
      ]
    },
    {
      "cell_type": "markdown",
      "id": "5b0f1c1e",
      "metadata": {
        "id": "5b0f1c1e"
      },
      "source": [
        "- We will use distribution plot to see if the credit_amount, credit_duration and age normally distributed and use box plots to check for outliers"
      ]
    },
    {
      "cell_type": "code",
      "execution_count": null,
      "id": "2fd28ea7",
      "metadata": {
        "id": "2fd28ea7",
        "outputId": "56d9d008-5c00-4ec0-8392-18f9c0533d0b"
      },
      "outputs": [
        {
          "data": {
            "text/plain": [
              "<Axes: xlabel='credit_amount', ylabel='Count'>"
            ]
          },
          "execution_count": 92,
          "metadata": {},
          "output_type": "execute_result"
        },
        {
          "data": {
            "image/png": "[encoded data removed]",
            "text/plain": [
              "<Figure size 640x480 with 1 Axes>"
            ]
          },
          "metadata": {},
          "output_type": "display_data"
        }
      ],
      "source": [
        "sns.histplot(data=new_df,x='credit_amount',bins=30,kde=True,color='b')"
      ]
    },
    {
      "cell_type": "markdown",
      "id": "d9084d59",
      "metadata": {
        "id": "d9084d59"
      },
      "source": [
        "##### Insights\n",
        "- Credit amount isn't normally distributed because it's left skewed"
      ]
    },
    {
      "cell_type": "markdown",
      "id": "c63567d3",
      "metadata": {
        "id": "c63567d3"
      },
      "source": [
        "##### 3.5.2 Bivariate Analysis"
      ]
    },
    {
      "cell_type": "markdown",
      "id": "30962a5c",
      "metadata": {
        "id": "30962a5c"
      },
      "source": [
        "##### Nominal variable vs target variable"
      ]
    },
    {
      "cell_type": "code",
      "execution_count": null,
      "id": "e22cf7da",
      "metadata": {
        "id": "e22cf7da",
        "outputId": "24ee0fa6-1ea9-4ba4-917a-db02fe5272b9"
      },
      "outputs": [
        {
          "data": {
            "image/png": "[encoded data removed]",
            "text/plain": [
              "<Figure size 400x400 with 1 Axes>"
            ]
          },
          "metadata": {},
          "output_type": "display_data"
        },
        {
          "data": {
            "image/png": "[encoded data removed]",
            "text/plain": [
              "<Figure size 400x400 with 1 Axes>"
            ]
          },
          "metadata": {},
          "output_type": "display_data"
        },
        {
          "data": {
            "image/png": "[encoded data removed]",
            "text/plain": [
              "<Figure size 400x400 with 1 Axes>"
            ]
          },
          "metadata": {},
          "output_type": "display_data"
        },
        {
          "data": {
            "image/png": "[encoded data removed]",
            "text/plain": [
              "<Figure size 400x400 with 1 Axes>"
            ]
          },
          "metadata": {},
          "output_type": "display_data"
        },
        {
          "data": {
            "image/png": "[encoded data removed]",
            "text/plain": [
              "<Figure size 400x400 with 1 Axes>"
            ]
          },
          "metadata": {},
          "output_type": "display_data"
        },
        {
          "data": {
            "image/png": "[encoded data removed]",
            "text/plain": [
              "<Figure size 400x400 with 1 Axes>"
            ]
          },
          "metadata": {},
          "output_type": "display_data"
        },
        {
          "data": {
            "image/png": "[encoded data removed]",
            "text/plain": [
              "<Figure size 400x400 with 1 Axes>"
            ]
          },
          "metadata": {},
          "output_type": "display_data"
        },
        {
          "data": {
            "image/png": "[encoded data removed]",
            "text/plain": [
              "<Figure size 400x400 with 1 Axes>"
            ]
          },
          "metadata": {},
          "output_type": "display_data"
        },
        {
          "data": {
            "image/png": "[encoded data removed]",
            "text/plain": [
              "<Figure size 400x400 with 1 Axes>"
            ]
          },
          "metadata": {},
          "output_type": "display_data"
        }
      ],
      "source": [
        "nominal_columns = ['account_type','payment_status_of_previous_loan','loan_purpose','savings_type',\n",
        "          'marital_status','most_valuable_asset','type_of_apartment','foreign_worker','occupation']\n",
        "for col in range(len(nominal_columns)):\n",
        "    new = pd.crosstab(new_df[nominal_columns[col]],new_df['label'])\n",
        "    new.div(new.sum(1).astype(float),axis=0).plot(kind='bar',stacked=True,figsize=(4,4))\n",
        "plt.show()"
      ]
    },
    {
      "cell_type": "markdown",
      "id": "be998d4d",
      "metadata": {
        "id": "be998d4d"
      },
      "source": [
        "Insights\n",
        "- account type \"4\" had 10% approval (the worst), while account type \"1\" had 50% approval (the best)\n",
        "- payment status of previous loan of \"4\" had 18% approval (the worst), payment status of previous loan of \"0\" had 62% (the best)\n",
        "- Similar interpretation techniques can be applied to other plots"
      ]
    },
    {
      "cell_type": "code",
      "execution_count": null,
      "id": "033a7052",
      "metadata": {
        "id": "033a7052"
      },
      "outputs": [],
      "source": []
    },
    {
      "cell_type": "markdown",
      "id": "0eeaf73e",
      "metadata": {
        "id": "0eeaf73e"
      },
      "source": [
        "##### Numerical Independent Variable vs Target Variable"
      ]
    },
    {
      "cell_type": "code",
      "execution_count": null,
      "id": "70351be2",
      "metadata": {
        "id": "70351be2",
        "outputId": "039520fd-a2e3-4602-bfc0-fce8c8a02452"
      },
      "outputs": [
        {
          "data": {
            "text/plain": [
              "<Axes: title={'center': 'label vs credit amount'}, xlabel='label'>"
            ]
          },
          "execution_count": 94,
          "metadata": {},
          "output_type": "execute_result"
        },
        {
          "data": {
            "image/png": "[encoded data removed]",
            "text/plain": [
              "<Figure size 750x500 with 1 Axes>"
            ]
          },
          "metadata": {},
          "output_type": "display_data"
        }
      ],
      "source": [
        "# We will obtain mean of income of people that got loan vs those that didn't get\n",
        "new_df.groupby('label')['credit_amount'].mean().plot.bar(figsize=(7.5,5),\n",
        "                                                         title='label vs credit amount')"
      ]
    },
    {
      "cell_type": "markdown",
      "id": "6d738542",
      "metadata": {
        "id": "6d738542"
      },
      "source": [
        "##### Insights\n",
        "- Approval rate had higher average credit amount i.e., higher credit amount were approved than lower amount"
      ]
    },
    {
      "cell_type": "code",
      "execution_count": null,
      "id": "e0944786",
      "metadata": {
        "id": "e0944786",
        "outputId": "1b3a6265-5411-4eb3-849a-1c0d0b023b9f"
      },
      "outputs": [
        {
          "data": {
            "text/plain": [
              "Text(0, 0.5, 'Percentage')"
            ]
          },
          "execution_count": 95,
          "metadata": {},
          "output_type": "execute_result"
        },
        {
          "data": {
            "image/png": "[encoded data removed]",
            "text/plain": [
              "<Figure size 640x480 with 1 Axes>"
            ]
          },
          "metadata": {},
          "output_type": "display_data"
        }
      ],
      "source": [
        "bins = [0,2000,3800,7500,19000]\n",
        "groups = ['Low','Average','High','Very High']\n",
        "new_df['Income_bin'] = pd.cut(new_df['credit_amount'],bins,labels=groups)\n",
        "Income_bin = pd.crosstab(new_df['Income_bin'],new_df['label'])\n",
        "Income_bin.div(Income_bin.sum(1).astype(float),axis=0).plot(kind='bar',stacked=True)\n",
        "plt.xlabel('credit amount')\n",
        "plt.ylabel('Percentage')"
      ]
    },
    {
      "cell_type": "code",
      "execution_count": null,
      "id": "b5db4d46",
      "metadata": {
        "id": "b5db4d46"
      },
      "outputs": [],
      "source": [
        "# new_df.groupby('Income_bin')['Income_bin'].count()"
      ]
    },
    {
      "cell_type": "markdown",
      "id": "57f636fe",
      "metadata": {
        "id": "57f636fe"
      },
      "source": [
        "##### Insights\n",
        "- Loan applications with very high credit amounts (>=7500) saw 50% approval while average credit amounts (2000 <= X <= 38000) saw 21% approval.\n",
        "\n",
        "- Note: This negate our earlier hypothesis that proposes that lower credit amounts should get higher approvals\n"
      ]
    },
    {
      "cell_type": "code",
      "execution_count": null,
      "id": "48108c29",
      "metadata": {
        "id": "48108c29"
      },
      "outputs": [],
      "source": []
    },
    {
      "cell_type": "markdown",
      "id": "72cb289f",
      "metadata": {
        "id": "72cb289f"
      },
      "source": [
        "##### Multivariate analysis"
      ]
    },
    {
      "cell_type": "code",
      "execution_count": null,
      "id": "1e25296a",
      "metadata": {
        "id": "1e25296a",
        "outputId": "7ca49e4a-f79f-4948-9cc1-ea57a2162beb"
      },
      "outputs": [
        {
          "data": {
            "text/html": [
              "<div>\n",
              "<style scoped>\n",
              "    .dataframe tbody tr th:only-of-type {\n",
              "        vertical-align: middle;\n",
              "    }\n",
              "\n",
              "    .dataframe tbody tr th {\n",
              "        vertical-align: top;\n",
              "    }\n",
              "\n",
              "    .dataframe thead th {\n",
              "        text-align: right;\n",
              "    }\n",
              "</style>\n",
              "<table border=\"1\" class=\"dataframe\">\n",
              "  <thead>\n",
              "    <tr style=\"text-align: right;\">\n",
              "      <th></th>\n",
              "      <th>label</th>\n",
              "      <th>credit_duration(month)</th>\n",
              "      <th>credit_amount</th>\n",
              "      <th>duration_of_current_employment</th>\n",
              "      <th>installment_percent</th>\n",
              "      <th>guarantors</th>\n",
              "      <th>duration_in_current_address</th>\n",
              "      <th>age</th>\n",
              "      <th>concurrent_credits</th>\n",
              "      <th>no_of_credits_at_the_bank</th>\n",
              "      <th>no_of_dependents</th>\n",
              "    </tr>\n",
              "  </thead>\n",
              "  <tbody>\n",
              "    <tr>\n",
              "      <th>label</th>\n",
              "      <td>1.000000</td>\n",
              "      <td>0.214927</td>\n",
              "      <td>0.154740</td>\n",
              "      <td>-0.116002</td>\n",
              "      <td>0.072404</td>\n",
              "      <td>-0.025137</td>\n",
              "      <td>0.002967</td>\n",
              "      <td>-0.091272</td>\n",
              "      <td>-0.109844</td>\n",
              "      <td>-0.045732</td>\n",
              "      <td>-0.003015</td>\n",
              "    </tr>\n",
              "    <tr>\n",
              "      <th>credit_duration(month)</th>\n",
              "      <td>0.214927</td>\n",
              "      <td>1.000000</td>\n",
              "      <td>0.624988</td>\n",
              "      <td>0.057381</td>\n",
              "      <td>0.074749</td>\n",
              "      <td>-0.024490</td>\n",
              "      <td>0.034067</td>\n",
              "      <td>-0.037550</td>\n",
              "      <td>-0.062884</td>\n",
              "      <td>-0.011284</td>\n",
              "      <td>-0.023834</td>\n",
              "    </tr>\n",
              "    <tr>\n",
              "      <th>credit_amount</th>\n",
              "      <td>0.154740</td>\n",
              "      <td>0.624988</td>\n",
              "      <td>1.000000</td>\n",
              "      <td>-0.008376</td>\n",
              "      <td>-0.271322</td>\n",
              "      <td>-0.027831</td>\n",
              "      <td>0.028917</td>\n",
              "      <td>0.032273</td>\n",
              "      <td>-0.069392</td>\n",
              "      <td>0.020785</td>\n",
              "      <td>0.017144</td>\n",
              "    </tr>\n",
              "    <tr>\n",
              "      <th>duration_of_current_employment</th>\n",
              "      <td>-0.116002</td>\n",
              "      <td>0.057381</td>\n",
              "      <td>-0.008376</td>\n",
              "      <td>1.000000</td>\n",
              "      <td>0.126161</td>\n",
              "      <td>-0.008116</td>\n",
              "      <td>0.245081</td>\n",
              "      <td>0.259116</td>\n",
              "      <td>-0.007279</td>\n",
              "      <td>0.125791</td>\n",
              "      <td>0.097192</td>\n",
              "    </tr>\n",
              "    <tr>\n",
              "      <th>installment_percent</th>\n",
              "      <td>0.072404</td>\n",
              "      <td>0.074749</td>\n",
              "      <td>-0.271322</td>\n",
              "      <td>0.126161</td>\n",
              "      <td>1.000000</td>\n",
              "      <td>-0.011398</td>\n",
              "      <td>0.049302</td>\n",
              "      <td>0.057271</td>\n",
              "      <td>0.007894</td>\n",
              "      <td>0.021669</td>\n",
              "      <td>-0.071207</td>\n",
              "    </tr>\n",
              "    <tr>\n",
              "      <th>guarantors</th>\n",
              "      <td>-0.025137</td>\n",
              "      <td>-0.024490</td>\n",
              "      <td>-0.027831</td>\n",
              "      <td>-0.008116</td>\n",
              "      <td>-0.011398</td>\n",
              "      <td>1.000000</td>\n",
              "      <td>-0.025678</td>\n",
              "      <td>-0.029826</td>\n",
              "      <td>-0.038235</td>\n",
              "      <td>-0.025447</td>\n",
              "      <td>0.020400</td>\n",
              "    </tr>\n",
              "    <tr>\n",
              "      <th>duration_in_current_address</th>\n",
              "      <td>0.002967</td>\n",
              "      <td>0.034067</td>\n",
              "      <td>0.028917</td>\n",
              "      <td>0.245081</td>\n",
              "      <td>0.049302</td>\n",
              "      <td>-0.025678</td>\n",
              "      <td>1.000000</td>\n",
              "      <td>0.265626</td>\n",
              "      <td>0.022654</td>\n",
              "      <td>0.089625</td>\n",
              "      <td>0.042643</td>\n",
              "    </tr>\n",
              "    <tr>\n",
              "      <th>age</th>\n",
              "      <td>-0.091272</td>\n",
              "      <td>-0.037550</td>\n",
              "      <td>0.032273</td>\n",
              "      <td>0.259116</td>\n",
              "      <td>0.057271</td>\n",
              "      <td>-0.029826</td>\n",
              "      <td>0.265626</td>\n",
              "      <td>1.000000</td>\n",
              "      <td>-0.030472</td>\n",
              "      <td>0.150718</td>\n",
              "      <td>0.118589</td>\n",
              "    </tr>\n",
              "    <tr>\n",
              "      <th>concurrent_credits</th>\n",
              "      <td>-0.109844</td>\n",
              "      <td>-0.062884</td>\n",
              "      <td>-0.069392</td>\n",
              "      <td>-0.007279</td>\n",
              "      <td>0.007894</td>\n",
              "      <td>-0.038235</td>\n",
              "      <td>0.022654</td>\n",
              "      <td>-0.030472</td>\n",
              "      <td>1.000000</td>\n",
              "      <td>-0.055810</td>\n",
              "      <td>-0.076891</td>\n",
              "    </tr>\n",
              "    <tr>\n",
              "      <th>no_of_credits_at_the_bank</th>\n",
              "      <td>-0.045732</td>\n",
              "      <td>-0.011284</td>\n",
              "      <td>0.020785</td>\n",
              "      <td>0.125791</td>\n",
              "      <td>0.021669</td>\n",
              "      <td>-0.025447</td>\n",
              "      <td>0.089625</td>\n",
              "      <td>0.150718</td>\n",
              "      <td>-0.055810</td>\n",
              "      <td>1.000000</td>\n",
              "      <td>0.109667</td>\n",
              "    </tr>\n",
              "    <tr>\n",
              "      <th>no_of_dependents</th>\n",
              "      <td>-0.003015</td>\n",
              "      <td>-0.023834</td>\n",
              "      <td>0.017144</td>\n",
              "      <td>0.097192</td>\n",
              "      <td>-0.071207</td>\n",
              "      <td>0.020400</td>\n",
              "      <td>0.042643</td>\n",
              "      <td>0.118589</td>\n",
              "      <td>-0.076891</td>\n",
              "      <td>0.109667</td>\n",
              "      <td>1.000000</td>\n",
              "    </tr>\n",
              "  </tbody>\n",
              "</table>\n",
              "</div>"
            ],
            "text/plain": [
              "                                   label  credit_duration(month)  \\\n",
              "label                           1.000000                0.214927   \n",
              "credit_duration(month)          0.214927                1.000000   \n",
              "credit_amount                   0.154740                0.624988   \n",
              "duration_of_current_employment -0.116002                0.057381   \n",
              "installment_percent             0.072404                0.074749   \n",
              "guarantors                     -0.025137               -0.024490   \n",
              "duration_in_current_address     0.002967                0.034067   \n",
              "age                            -0.091272               -0.037550   \n",
              "concurrent_credits             -0.109844               -0.062884   \n",
              "no_of_credits_at_the_bank      -0.045732               -0.011284   \n",
              "no_of_dependents               -0.003015               -0.023834   \n",
              "\n",
              "                                credit_amount  duration_of_current_employment  \\\n",
              "label                                0.154740                       -0.116002   \n",
              "credit_duration(month)               0.624988                        0.057381   \n",
              "credit_amount                        1.000000                       -0.008376   \n",
              "duration_of_current_employment      -0.008376                        1.000000   \n",
              "installment_percent                 -0.271322                        0.126161   \n",
              "guarantors                          -0.027831                       -0.008116   \n",
              "duration_in_current_address          0.028917                        0.245081   \n",
              "age                                  0.032273                        0.259116   \n",
              "concurrent_credits                  -0.069392                       -0.007279   \n",
              "no_of_credits_at_the_bank            0.020785                        0.125791   \n",
              "no_of_dependents                     0.017144                        0.097192   \n",
              "\n",
              "                                installment_percent  guarantors  \\\n",
              "label                                      0.072404   -0.025137   \n",
              "credit_duration(month)                     0.074749   -0.024490   \n",
              "credit_amount                             -0.271322   -0.027831   \n",
              "duration_of_current_employment             0.126161   -0.008116   \n",
              "installment_percent                        1.000000   -0.011398   \n",
              "guarantors                                -0.011398    1.000000   \n",
              "duration_in_current_address                0.049302   -0.025678   \n",
              "age                                        0.057271   -0.029826   \n",
              "concurrent_credits                         0.007894   -0.038235   \n",
              "no_of_credits_at_the_bank                  0.021669   -0.025447   \n",
              "no_of_dependents                          -0.071207    0.020400   \n",
              "\n",
              "                                duration_in_current_address       age  \\\n",
              "label                                              0.002967 -0.091272   \n",
              "credit_duration(month)                             0.034067 -0.037550   \n",
              "credit_amount                                      0.028917  0.032273   \n",
              "duration_of_current_employment                     0.245081  0.259116   \n",
              "installment_percent                                0.049302  0.057271   \n",
              "guarantors                                        -0.025678 -0.029826   \n",
              "duration_in_current_address                        1.000000  0.265626   \n",
              "age                                                0.265626  1.000000   \n",
              "concurrent_credits                                 0.022654 -0.030472   \n",
              "no_of_credits_at_the_bank                          0.089625  0.150718   \n",
              "no_of_dependents                                   0.042643  0.118589   \n",
              "\n",
              "                                concurrent_credits  no_of_credits_at_the_bank  \\\n",
              "label                                    -0.109844                  -0.045732   \n",
              "credit_duration(month)                   -0.062884                  -0.011284   \n",
              "credit_amount                            -0.069392                   0.020785   \n",
              "duration_of_current_employment           -0.007279                   0.125791   \n",
              "installment_percent                       0.007894                   0.021669   \n",
              "guarantors                               -0.038235                  -0.025447   \n",
              "duration_in_current_address               0.022654                   0.089625   \n",
              "age                                      -0.030472                   0.150718   \n",
              "concurrent_credits                        1.000000                  -0.055810   \n",
              "no_of_credits_at_the_bank                -0.055810                   1.000000   \n",
              "no_of_dependents                         -0.076891                   0.109667   \n",
              "\n",
              "                                no_of_dependents  \n",
              "label                                  -0.003015  \n",
              "credit_duration(month)                 -0.023834  \n",
              "credit_amount                           0.017144  \n",
              "duration_of_current_employment          0.097192  \n",
              "installment_percent                    -0.071207  \n",
              "guarantors                              0.020400  \n",
              "duration_in_current_address             0.042643  \n",
              "age                                     0.118589  \n",
              "concurrent_credits                     -0.076891  \n",
              "no_of_credits_at_the_bank               0.109667  \n",
              "no_of_dependents                        1.000000  "
            ]
          },
          "execution_count": 18,
          "metadata": {},
          "output_type": "execute_result"
        }
      ],
      "source": [
        "# Correction plots\n",
        "matrix = new_df.corr()\n",
        "matrix"
      ]
    },
    {
      "cell_type": "code",
      "execution_count": null,
      "id": "1ecd489b",
      "metadata": {
        "id": "1ecd489b",
        "outputId": "60fdb913-22ee-4e5b-c5c7-ef662fdc6863"
      },
      "outputs": [
        {
          "data": {
            "text/plain": [
              "<Axes: >"
            ]
          },
          "execution_count": 98,
          "metadata": {},
          "output_type": "execute_result"
        },
        {
          "data": {
            "image/png": "[encoded data removed]",
            "text/plain": [
              "<Figure size 900x600 with 2 Axes>"
            ]
          },
          "metadata": {},
          "output_type": "display_data"
        }
      ],
      "source": [
        "f, ax = plt.subplots(figsize=(9,6))\n",
        "sns.heatmap(matrix,vmax=1.0,square=True,cmap=\"BuPu\")"
      ]
    },
    {
      "cell_type": "markdown",
      "id": "04b0c601",
      "metadata": {
        "id": "04b0c601"
      },
      "source": [
        "Insights\n",
        "- We see that the most correlated variables with label (target variable) are credit_duration(month), credit_amount, duration_of_current_employment and concurrent credits. Additionally, credit duration and credit amount are negatively correlated with label while duration of current employment and concurrent credits are positively correlated\n"
      ]
    },
    {
      "cell_type": "code",
      "execution_count": null,
      "id": "975c8da8",
      "metadata": {
        "id": "975c8da8"
      },
      "outputs": [],
      "source": []
    },
    {
      "cell_type": "markdown",
      "id": "2bdbf4c6",
      "metadata": {
        "id": "2bdbf4c6"
      },
      "source": [
        "### 4.0 Data Preprocessing, Feature Engineering Model benchmarking and Evaluation"
      ]
    },
    {
      "cell_type": "markdown",
      "id": "2e5aa167",
      "metadata": {
        "id": "2e5aa167"
      },
      "source": [
        "#### 4.1 Pipeline for preprocessing and model building"
      ]
    },
    {
      "cell_type": "markdown",
      "id": "fe447f9d",
      "metadata": {
        "id": "fe447f9d"
      },
      "source": [
        "##### 4.1.1 Splitting dataset into features and label\n"
      ]
    },
    {
      "cell_type": "code",
      "execution_count": 54,
      "id": "0d841b79",
      "metadata": {
        "colab": {
          "base_uri": "https://localhost:8080/"
        },
        "id": "0d841b79",
        "outputId": "c691be0d-9115-4a9a-c5f3-157dc214e65b"
      },
      "outputs": [
        {
          "output_type": "stream",
          "name": "stdout",
          "text": [
            "the shape of the inputs X_full is: (1000, 19)\n",
            "the shape of the targets y_full is: (1000, 1)\n"
          ]
        }
      ],
      "source": [
        "label = 'label'\n",
        "features = list(new_df.drop(label,axis=1).columns)\n",
        "X_full,y_full = new_df[features].values, new_df[label].values\n",
        "\n",
        "# Convert y into 2-D because the commands later will require it (x is already 2-D)\n",
        "y_full = np.expand_dims(y_full, axis=1)\n",
        "\n",
        "print(f\"the shape of the inputs X_full is: {X_full.shape}\")\n",
        "print(f\"the shape of the targets y_full is: {y_full.shape}\")"
      ]
    },
    {
      "cell_type": "markdown",
      "id": "7835c071",
      "metadata": {
        "id": "7835c071"
      },
      "source": [
        "##### 4.1.2 Split and prepare the dataset\n",
        "\n",
        "Next, you will generate the training, cross validation, and test sets. You will use the same 60/20/20 proportions as before. You will also scale the features as you did in the previous section."
      ]
    },
    {
      "cell_type": "code",
      "source": [],
      "metadata": {
        "id": "Pk74KJhZ9ITc"
      },
      "id": "Pk74KJhZ9ITc",
      "execution_count": null,
      "outputs": []
    },
    {
      "cell_type": "code",
      "source": [
        "from sklearn.model_selection import train_test_split\n",
        "\n",
        "# Get 60% of the dataset as the training set. Put the remaining 40% in temporary variables.\n",
        "X, x_test, y, y_test = train_test_split(X_full, y_full, test_size=0.20, random_state=1)"
      ],
      "metadata": {
        "id": "8-beOUgzmwUV"
      },
      "id": "8-beOUgzmwUV",
      "execution_count": 55,
      "outputs": []
    },
    {
      "cell_type": "markdown",
      "id": "6b139caa",
      "metadata": {
        "id": "6b139caa"
      },
      "source": [
        "##### Model Pipeline"
      ]
    },
    {
      "cell_type": "code",
      "execution_count": 57,
      "id": "6c011e72",
      "metadata": {
        "id": "6c011e72"
      },
      "outputs": [],
      "source": [
        "# Define preprocessing for numeric columns (normalize them so they're on the same scale)\n",
        "numeric_features = [0,1,2,3,4,5,6,7,8,9]\n",
        "numeric_transformer = Pipeline(steps=[('scaler', StandardScaler())])\n",
        "\n",
        "# Define preprocessing for nominal features\n",
        "nominal_features = [10,11,12,13,14,16,17]\n",
        "nominal_transformer = Pipeline(steps=[\n",
        "    ('onehot', OneHotEncoder(handle_unknown='ignore'))])\n",
        "\n",
        "# Define preprocessing for ordinal features\n",
        "ordinal_features = [15,18]\n",
        "ordinal_transformer = Pipeline(steps=[\n",
        "    ('labelencode', OrdinalEncoder())])\n",
        "\n",
        "# Combine preprocessing steps\n",
        "preprocessor = ColumnTransformer(\n",
        "    transformers=[\n",
        "        ('num', numeric_transformer, numeric_features),\n",
        "        ('nom', nominal_transformer, nominal_features),\n",
        "        ('ord',ordinal_transformer, ordinal_features)\n",
        "    ])"
      ]
    },
    {
      "cell_type": "code",
      "execution_count": 58,
      "id": "e4015ced",
      "metadata": {
        "colab": {
          "base_uri": "https://localhost:8080/",
          "height": 116
        },
        "id": "e4015ced",
        "outputId": "83c96bba-5834-4512-f4b9-2e1439cf98d4"
      },
      "outputs": [
        {
          "output_type": "execute_result",
          "data": {
            "text/plain": [
              "ColumnTransformer(transformers=[('num',\n",
              "                                 Pipeline(steps=[('scaler', StandardScaler())]),\n",
              "                                 [0, 1, 2, 3, 4, 5, 6, 7, 8, 9]),\n",
              "                                ('nom',\n",
              "                                 Pipeline(steps=[('onehot',\n",
              "                                                  OneHotEncoder(handle_unknown='ignore'))]),\n",
              "                                 [10, 11, 12, 13, 14, 16, 17]),\n",
              "                                ('ord',\n",
              "                                 Pipeline(steps=[('labelencode',\n",
              "                                                  OrdinalEncoder())]),\n",
              "                                 [15, 18])])"
            ],
            "text/html": [
              "<style>#sk-container-id-2 {color: black;background-color: white;}#sk-container-id-2 pre{padding: 0;}#sk-container-id-2 div.sk-toggleable {background-color: white;}#sk-container-id-2 label.sk-toggleable__label {cursor: pointer;display: block;width: 100%;margin-bottom: 0;padding: 0.3em;box-sizing: border-box;text-align: center;}#sk-container-id-2 label.sk-toggleable__label-arrow:before {content: \"▸\";float: left;margin-right: 0.25em;color: #696969;}#sk-container-id-2 label.sk-toggleable__label-arrow:hover:before {color: black;}#sk-container-id-2 div.sk-estimator:hover label.sk-toggleable__label-arrow:before {color: black;}#sk-container-id-2 div.sk-toggleable__content {max-height: 0;max-width: 0;overflow: hidden;text-align: left;background-color: #f0f8ff;}#sk-container-id-2 div.sk-toggleable__content pre {margin: 0.2em;color: black;border-radius: 0.25em;background-color: #f0f8ff;}#sk-container-id-2 input.sk-toggleable__control:checked~div.sk-toggleable__content {max-height: 200px;max-width: 100%;overflow: auto;}#sk-container-id-2 input.sk-toggleable__control:checked~label.sk-toggleable__label-arrow:before {content: \"▾\";}#sk-container-id-2 div.sk-estimator input.sk-toggleable__control:checked~label.sk-toggleable__label {background-color: #d4ebff;}#sk-container-id-2 div.sk-label input.sk-toggleable__control:checked~label.sk-toggleable__label {background-color: #d4ebff;}#sk-container-id-2 input.sk-hidden--visually {border: 0;clip: rect(1px 1px 1px 1px);clip: rect(1px, 1px, 1px, 1px);height: 1px;margin: -1px;overflow: hidden;padding: 0;position: absolute;width: 1px;}#sk-container-id-2 div.sk-estimator {font-family: monospace;background-color: #f0f8ff;border: 1px dotted black;border-radius: 0.25em;box-sizing: border-box;margin-bottom: 0.5em;}#sk-container-id-2 div.sk-estimator:hover {background-color: #d4ebff;}#sk-container-id-2 div.sk-parallel-item::after {content: \"\";width: 100%;border-bottom: 1px solid gray;flex-grow: 1;}#sk-container-id-2 div.sk-label:hover label.sk-toggleable__label {background-color: #d4ebff;}#sk-container-id-2 div.sk-serial::before {content: \"\";position: absolute;border-left: 1px solid gray;box-sizing: border-box;top: 0;bottom: 0;left: 50%;z-index: 0;}#sk-container-id-2 div.sk-serial {display: flex;flex-direction: column;align-items: center;background-color: white;padding-right: 0.2em;padding-left: 0.2em;position: relative;}#sk-container-id-2 div.sk-item {position: relative;z-index: 1;}#sk-container-id-2 div.sk-parallel {display: flex;align-items: stretch;justify-content: center;background-color: white;position: relative;}#sk-container-id-2 div.sk-item::before, #sk-container-id-2 div.sk-parallel-item::before {content: \"\";position: absolute;border-left: 1px solid gray;box-sizing: border-box;top: 0;bottom: 0;left: 50%;z-index: -1;}#sk-container-id-2 div.sk-parallel-item {display: flex;flex-direction: column;z-index: 1;position: relative;background-color: white;}#sk-container-id-2 div.sk-parallel-item:first-child::after {align-self: flex-end;width: 50%;}#sk-container-id-2 div.sk-parallel-item:last-child::after {align-self: flex-start;width: 50%;}#sk-container-id-2 div.sk-parallel-item:only-child::after {width: 0;}#sk-container-id-2 div.sk-dashed-wrapped {border: 1px dashed gray;margin: 0 0.4em 0.5em 0.4em;box-sizing: border-box;padding-bottom: 0.4em;background-color: white;}#sk-container-id-2 div.sk-label label {font-family: monospace;font-weight: bold;display: inline-block;line-height: 1.2em;}#sk-container-id-2 div.sk-label-container {text-align: center;}#sk-container-id-2 div.sk-container {/* jupyter's `normalize.less` sets `[hidden] { display: none; }` but bootstrap.min.css set `[hidden] { display: none !important; }` so we also need the `!important` here to be able to override the default hidden behavior on the sphinx rendered scikit-learn.org. See: https://github.com/scikit-learn/scikit-learn/issues/21755 */display: inline-block !important;position: relative;}#sk-container-id-2 div.sk-text-repr-fallback {display: none;}</style><div id=\"sk-container-id-2\" class=\"sk-top-container\"><div class=\"sk-text-repr-fallback\"><pre>ColumnTransformer(transformers=[(&#x27;num&#x27;,\n",
              "                                 Pipeline(steps=[(&#x27;scaler&#x27;, StandardScaler())]),\n",
              "                                 [0, 1, 2, 3, 4, 5, 6, 7, 8, 9]),\n",
              "                                (&#x27;nom&#x27;,\n",
              "                                 Pipeline(steps=[(&#x27;onehot&#x27;,\n",
              "                                                  OneHotEncoder(handle_unknown=&#x27;ignore&#x27;))]),\n",
              "                                 [10, 11, 12, 13, 14, 16, 17]),\n",
              "                                (&#x27;ord&#x27;,\n",
              "                                 Pipeline(steps=[(&#x27;labelencode&#x27;,\n",
              "                                                  OrdinalEncoder())]),\n",
              "                                 [15, 18])])</pre><b>In a Jupyter environment, please rerun this cell to show the HTML representation or trust the notebook. <br />On GitHub, the HTML representation is unable to render, please try loading this page with nbviewer.org.</b></div><div class=\"sk-container\" hidden><div class=\"sk-item sk-dashed-wrapped\"><div class=\"sk-label-container\"><div class=\"sk-label sk-toggleable\"><input class=\"sk-toggleable__control sk-hidden--visually\" id=\"sk-estimator-id-8\" type=\"checkbox\" ><label for=\"sk-estimator-id-8\" class=\"sk-toggleable__label sk-toggleable__label-arrow\">ColumnTransformer</label><div class=\"sk-toggleable__content\"><pre>ColumnTransformer(transformers=[(&#x27;num&#x27;,\n",
              "                                 Pipeline(steps=[(&#x27;scaler&#x27;, StandardScaler())]),\n",
              "                                 [0, 1, 2, 3, 4, 5, 6, 7, 8, 9]),\n",
              "                                (&#x27;nom&#x27;,\n",
              "                                 Pipeline(steps=[(&#x27;onehot&#x27;,\n",
              "                                                  OneHotEncoder(handle_unknown=&#x27;ignore&#x27;))]),\n",
              "                                 [10, 11, 12, 13, 14, 16, 17]),\n",
              "                                (&#x27;ord&#x27;,\n",
              "                                 Pipeline(steps=[(&#x27;labelencode&#x27;,\n",
              "                                                  OrdinalEncoder())]),\n",
              "                                 [15, 18])])</pre></div></div></div><div class=\"sk-parallel\"><div class=\"sk-parallel-item\"><div class=\"sk-item\"><div class=\"sk-label-container\"><div class=\"sk-label sk-toggleable\"><input class=\"sk-toggleable__control sk-hidden--visually\" id=\"sk-estimator-id-9\" type=\"checkbox\" ><label for=\"sk-estimator-id-9\" class=\"sk-toggleable__label sk-toggleable__label-arrow\">num</label><div class=\"sk-toggleable__content\"><pre>[0, 1, 2, 3, 4, 5, 6, 7, 8, 9]</pre></div></div></div><div class=\"sk-serial\"><div class=\"sk-item\"><div class=\"sk-serial\"><div class=\"sk-item\"><div class=\"sk-estimator sk-toggleable\"><input class=\"sk-toggleable__control sk-hidden--visually\" id=\"sk-estimator-id-10\" type=\"checkbox\" ><label for=\"sk-estimator-id-10\" class=\"sk-toggleable__label sk-toggleable__label-arrow\">StandardScaler</label><div class=\"sk-toggleable__content\"><pre>StandardScaler()</pre></div></div></div></div></div></div></div></div><div class=\"sk-parallel-item\"><div class=\"sk-item\"><div class=\"sk-label-container\"><div class=\"sk-label sk-toggleable\"><input class=\"sk-toggleable__control sk-hidden--visually\" id=\"sk-estimator-id-11\" type=\"checkbox\" ><label for=\"sk-estimator-id-11\" class=\"sk-toggleable__label sk-toggleable__label-arrow\">nom</label><div class=\"sk-toggleable__content\"><pre>[10, 11, 12, 13, 14, 16, 17]</pre></div></div></div><div class=\"sk-serial\"><div class=\"sk-item\"><div class=\"sk-serial\"><div class=\"sk-item\"><div class=\"sk-estimator sk-toggleable\"><input class=\"sk-toggleable__control sk-hidden--visually\" id=\"sk-estimator-id-12\" type=\"checkbox\" ><label for=\"sk-estimator-id-12\" class=\"sk-toggleable__label sk-toggleable__label-arrow\">OneHotEncoder</label><div class=\"sk-toggleable__content\"><pre>OneHotEncoder(handle_unknown=&#x27;ignore&#x27;)</pre></div></div></div></div></div></div></div></div><div class=\"sk-parallel-item\"><div class=\"sk-item\"><div class=\"sk-label-container\"><div class=\"sk-label sk-toggleable\"><input class=\"sk-toggleable__control sk-hidden--visually\" id=\"sk-estimator-id-13\" type=\"checkbox\" ><label for=\"sk-estimator-id-13\" class=\"sk-toggleable__label sk-toggleable__label-arrow\">ord</label><div class=\"sk-toggleable__content\"><pre>[15, 18]</pre></div></div></div><div class=\"sk-serial\"><div class=\"sk-item\"><div class=\"sk-serial\"><div class=\"sk-item\"><div class=\"sk-estimator sk-toggleable\"><input class=\"sk-toggleable__control sk-hidden--visually\" id=\"sk-estimator-id-14\" type=\"checkbox\" ><label for=\"sk-estimator-id-14\" class=\"sk-toggleable__label sk-toggleable__label-arrow\">OrdinalEncoder</label><div class=\"sk-toggleable__content\"><pre>OrdinalEncoder()</pre></div></div></div></div></div></div></div></div></div></div></div></div>"
            ]
          },
          "metadata": {},
          "execution_count": 58
        }
      ],
      "source": [
        "preprocessor"
      ]
    },
    {
      "cell_type": "code",
      "source": [],
      "metadata": {
        "id": "eNsmu4b19PaA"
      },
      "id": "eNsmu4b19PaA",
      "execution_count": null,
      "outputs": []
    },
    {
      "cell_type": "code",
      "source": [
        "# Define the number of splits (K)\n",
        "n_splits = 5  # You can change this to the desired number of splits\n",
        "\n",
        "# Initialize Stratified K-Fold\n",
        "sss = StratifiedShuffleSplit(n_splits=n_splits, test_size=0.2, random_state=42)\n",
        "\n",
        "# Initialize a variable to keep track of fold number\n",
        "fold = 0\n",
        "\n",
        "\n",
        "dtr = DecisionTreeClassifier()\n",
        "xgb = GradientBoostingClassifier(n_estimators=100,verbose=False)\n",
        "rf = RandomForestClassifier(n_estimators=100,verbose=False)\n",
        "svc = SVC(probability=True,verbose=False)\n",
        "xgb = XGBClassifier(n_estimators=100,verbose=False)\n",
        "cat = CatBoostClassifier(n_estimators=100,verbose=False)\n",
        "\n",
        "model_metrics = {}\n",
        "models = [dtr,xgb,rf,svc,xgb,cat]\n",
        "for index in range(0,len(models)):\n",
        "  scores = []\n",
        "  # Select the model\n",
        "  model_pipeline = Pipeline(steps=[('preprocessor', preprocessor),\n",
        "                      ('model', models[index])\n",
        "                      ])\n",
        "  for train_index, test_index in sss.split(X, y):\n",
        "    fold += 1\n",
        "    X_train, X_test = X[train_index], X[test_index]\n",
        "    y_train, y_test = y[train_index], y[test_index]\n",
        "\n",
        "    model_benchmarking(X_train,y_train,X_test,y_test)\n",
        "\n",
        "    # Replace this section with your modeling code (e.g., training and evaluating a classifier)\n",
        "    print(f\"Fold {fold}:\")\n",
        "    print(f\"Train data shape: {X_train.shape}, Test data shape: {X_test.shape}\")\n",
        "\n",
        "    # Fit the model with X_train and y_train\n",
        "    model_pipeline = model_pipeline.fit(X_train, (y_train))\n",
        "\n",
        "\n",
        "    # Obtain predictions\n",
        "    validation_predictions = model_pipeline.predict(X_test)\n",
        "\n",
        "    # Obtain scores for tests\n",
        "    test_y_scores = model_pipeline.predict_proba(X_test)\n",
        "    test_fpr, test_tpr, test_thresholds = roc_curve(y_test, test_y_scores[:,1])\n",
        "    test_accuracy = accuracy_score(y_test,validation_predictions)\n",
        "    test_precision = precision_score(y_test,validation_predictions)\n",
        "    test_recall = recall_score(y_test,validation_predictions)\n",
        "    test_f1_score = (2*test_precision*test_recall)/(test_precision+test_recall)\n",
        "    scores.append(test_f1_score)\n",
        "  model_mean_score = np.mean(np.array(scores))\n",
        "  model_metrics[f'{index}_scores'] = model_mean_score"
      ],
      "metadata": {
        "colab": {
          "base_uri": "https://localhost:8080/"
        },
        "id": "hPgOVOYI4oHS",
        "outputId": "12f0b9a4-52dc-42db-ef1c-ca87e6c2deb7"
      },
      "id": "hPgOVOYI4oHS",
      "execution_count": 68,
      "outputs": [
        {
          "output_type": "stream",
          "name": "stdout",
          "text": [
            "[09:41:30] WARNING: ../src/learner.cc:767: \n",
            "Parameters: { \"verbose\" } are not used.\n",
            "\n",
            "[09:41:32] WARNING: ../src/learner.cc:767: \n",
            "Parameters: { \"verbose\" } are not used.\n",
            "\n",
            "Fold 1:\n",
            "Train data shape: (640, 19), Test data shape: (160, 19)\n",
            "[09:41:33] WARNING: ../src/learner.cc:767: \n",
            "Parameters: { \"verbose\" } are not used.\n",
            "\n",
            "[09:41:33] WARNING: ../src/learner.cc:767: \n",
            "Parameters: { \"verbose\" } are not used.\n",
            "\n",
            "Fold 2:\n",
            "Train data shape: (640, 19), Test data shape: (160, 19)\n",
            "[09:41:34] WARNING: ../src/learner.cc:767: \n",
            "Parameters: { \"verbose\" } are not used.\n",
            "\n",
            "[09:41:34] WARNING: ../src/learner.cc:767: \n",
            "Parameters: { \"verbose\" } are not used.\n",
            "\n",
            "Fold 3:\n",
            "Train data shape: (640, 19), Test data shape: (160, 19)\n",
            "[09:41:35] WARNING: ../src/learner.cc:767: \n",
            "Parameters: { \"verbose\" } are not used.\n",
            "\n",
            "[09:41:35] WARNING: ../src/learner.cc:767: \n",
            "Parameters: { \"verbose\" } are not used.\n",
            "\n",
            "Fold 4:\n",
            "Train data shape: (640, 19), Test data shape: (160, 19)\n",
            "[09:41:36] WARNING: ../src/learner.cc:767: \n",
            "Parameters: { \"verbose\" } are not used.\n",
            "\n",
            "[09:41:36] WARNING: ../src/learner.cc:767: \n",
            "Parameters: { \"verbose\" } are not used.\n",
            "\n",
            "Fold 5:\n",
            "Train data shape: (640, 19), Test data shape: (160, 19)\n",
            "[09:41:37] WARNING: ../src/learner.cc:767: \n",
            "Parameters: { \"verbose\" } are not used.\n",
            "\n",
            "[09:41:37] WARNING: ../src/learner.cc:767: \n",
            "Parameters: { \"verbose\" } are not used.\n",
            "\n",
            "Fold 6:\n",
            "Train data shape: (640, 19), Test data shape: (160, 19)\n",
            "[09:41:38] WARNING: ../src/learner.cc:767: \n",
            "Parameters: { \"verbose\" } are not used.\n",
            "\n",
            "[09:41:38] WARNING: ../src/learner.cc:767: \n",
            "Parameters: { \"verbose\" } are not used.\n",
            "\n",
            "[09:41:38] WARNING: ../src/learner.cc:767: \n",
            "Parameters: { \"verbose\" } are not used.\n",
            "\n",
            "Fold 7:\n",
            "Train data shape: (640, 19), Test data shape: (160, 19)\n",
            "[09:41:39] WARNING: ../src/learner.cc:767: \n",
            "Parameters: { \"verbose\" } are not used.\n",
            "\n",
            "[09:41:39] WARNING: ../src/learner.cc:767: \n",
            "Parameters: { \"verbose\" } are not used.\n",
            "\n",
            "[09:41:40] WARNING: ../src/learner.cc:767: \n",
            "Parameters: { \"verbose\" } are not used.\n",
            "\n",
            "Fold 8:\n",
            "Train data shape: (640, 19), Test data shape: (160, 19)\n",
            "[09:41:40] WARNING: ../src/learner.cc:767: \n",
            "Parameters: { \"verbose\" } are not used.\n",
            "\n",
            "[09:41:40] WARNING: ../src/learner.cc:767: \n",
            "Parameters: { \"verbose\" } are not used.\n",
            "\n",
            "[09:41:41] WARNING: ../src/learner.cc:767: \n",
            "Parameters: { \"verbose\" } are not used.\n",
            "\n",
            "Fold 9:\n",
            "Train data shape: (640, 19), Test data shape: (160, 19)\n",
            "[09:41:41] WARNING: ../src/learner.cc:767: \n",
            "Parameters: { \"verbose\" } are not used.\n",
            "\n",
            "[09:41:42] WARNING: ../src/learner.cc:767: \n",
            "Parameters: { \"verbose\" } are not used.\n",
            "\n",
            "[09:41:43] WARNING: ../src/learner.cc:767: \n",
            "Parameters: { \"verbose\" } are not used.\n",
            "\n",
            "Fold 10:\n",
            "Train data shape: (640, 19), Test data shape: (160, 19)\n",
            "[09:41:44] WARNING: ../src/learner.cc:767: \n",
            "Parameters: { \"verbose\" } are not used.\n",
            "\n",
            "[09:41:44] WARNING: ../src/learner.cc:767: \n",
            "Parameters: { \"verbose\" } are not used.\n",
            "\n",
            "[09:41:44] WARNING: ../src/learner.cc:767: \n",
            "Parameters: { \"verbose\" } are not used.\n",
            "\n",
            "Fold 11:\n",
            "Train data shape: (640, 19), Test data shape: (160, 19)\n",
            "[09:41:45] WARNING: ../src/learner.cc:767: \n",
            "Parameters: { \"verbose\" } are not used.\n",
            "\n",
            "[09:41:46] WARNING: ../src/learner.cc:767: \n",
            "Parameters: { \"verbose\" } are not used.\n",
            "\n",
            "Fold 12:\n",
            "Train data shape: (640, 19), Test data shape: (160, 19)\n",
            "[09:41:46] WARNING: ../src/learner.cc:767: \n",
            "Parameters: { \"verbose\" } are not used.\n",
            "\n",
            "[09:41:47] WARNING: ../src/learner.cc:767: \n",
            "Parameters: { \"verbose\" } are not used.\n",
            "\n",
            "Fold 13:\n",
            "Train data shape: (640, 19), Test data shape: (160, 19)\n",
            "[09:41:48] WARNING: ../src/learner.cc:767: \n",
            "Parameters: { \"verbose\" } are not used.\n",
            "\n",
            "[09:41:48] WARNING: ../src/learner.cc:767: \n",
            "Parameters: { \"verbose\" } are not used.\n",
            "\n",
            "Fold 14:\n",
            "Train data shape: (640, 19), Test data shape: (160, 19)\n",
            "[09:41:49] WARNING: ../src/learner.cc:767: \n",
            "Parameters: { \"verbose\" } are not used.\n",
            "\n",
            "[09:41:49] WARNING: ../src/learner.cc:767: \n",
            "Parameters: { \"verbose\" } are not used.\n",
            "\n",
            "Fold 15:\n",
            "Train data shape: (640, 19), Test data shape: (160, 19)\n",
            "[09:41:50] WARNING: ../src/learner.cc:767: \n",
            "Parameters: { \"verbose\" } are not used.\n",
            "\n",
            "[09:41:51] WARNING: ../src/learner.cc:767: \n",
            "Parameters: { \"verbose\" } are not used.\n",
            "\n",
            "Fold 16:\n",
            "Train data shape: (640, 19), Test data shape: (160, 19)\n",
            "[09:41:51] WARNING: ../src/learner.cc:767: \n",
            "Parameters: { \"verbose\" } are not used.\n",
            "\n",
            "[09:41:52] WARNING: ../src/learner.cc:767: \n",
            "Parameters: { \"verbose\" } are not used.\n",
            "\n",
            "Fold 17:\n",
            "Train data shape: (640, 19), Test data shape: (160, 19)\n",
            "[09:41:52] WARNING: ../src/learner.cc:767: \n",
            "Parameters: { \"verbose\" } are not used.\n",
            "\n",
            "[09:41:53] WARNING: ../src/learner.cc:767: \n",
            "Parameters: { \"verbose\" } are not used.\n",
            "\n",
            "Fold 18:\n",
            "Train data shape: (640, 19), Test data shape: (160, 19)\n",
            "[09:41:54] WARNING: ../src/learner.cc:767: \n",
            "Parameters: { \"verbose\" } are not used.\n",
            "\n",
            "[09:41:55] WARNING: ../src/learner.cc:767: \n",
            "Parameters: { \"verbose\" } are not used.\n",
            "\n",
            "Fold 19:\n",
            "Train data shape: (640, 19), Test data shape: (160, 19)\n",
            "[09:41:56] WARNING: ../src/learner.cc:767: \n",
            "Parameters: { \"verbose\" } are not used.\n",
            "\n",
            "[09:41:56] WARNING: ../src/learner.cc:767: \n",
            "Parameters: { \"verbose\" } are not used.\n",
            "\n",
            "Fold 20:\n",
            "Train data shape: (640, 19), Test data shape: (160, 19)\n",
            "[09:41:57] WARNING: ../src/learner.cc:767: \n",
            "Parameters: { \"verbose\" } are not used.\n",
            "\n",
            "[09:41:57] WARNING: ../src/learner.cc:767: \n",
            "Parameters: { \"verbose\" } are not used.\n",
            "\n",
            "Fold 21:\n",
            "Train data shape: (640, 19), Test data shape: (160, 19)\n",
            "[09:41:58] WARNING: ../src/learner.cc:767: \n",
            "Parameters: { \"verbose\" } are not used.\n",
            "\n",
            "[09:41:58] WARNING: ../src/learner.cc:767: \n",
            "Parameters: { \"verbose\" } are not used.\n",
            "\n",
            "[09:41:59] WARNING: ../src/learner.cc:767: \n",
            "Parameters: { \"verbose\" } are not used.\n",
            "\n",
            "Fold 22:\n",
            "Train data shape: (640, 19), Test data shape: (160, 19)\n",
            "[09:41:59] WARNING: ../src/learner.cc:767: \n",
            "Parameters: { \"verbose\" } are not used.\n",
            "\n",
            "[09:41:59] WARNING: ../src/learner.cc:767: \n",
            "Parameters: { \"verbose\" } are not used.\n",
            "\n",
            "[09:42:00] WARNING: ../src/learner.cc:767: \n",
            "Parameters: { \"verbose\" } are not used.\n",
            "\n",
            "Fold 23:\n",
            "Train data shape: (640, 19), Test data shape: (160, 19)\n",
            "[09:42:00] WARNING: ../src/learner.cc:767: \n",
            "Parameters: { \"verbose\" } are not used.\n",
            "\n",
            "[09:42:00] WARNING: ../src/learner.cc:767: \n",
            "Parameters: { \"verbose\" } are not used.\n",
            "\n",
            "[09:42:01] WARNING: ../src/learner.cc:767: \n",
            "Parameters: { \"verbose\" } are not used.\n",
            "\n",
            "Fold 24:\n",
            "Train data shape: (640, 19), Test data shape: (160, 19)\n",
            "[09:42:01] WARNING: ../src/learner.cc:767: \n",
            "Parameters: { \"verbose\" } are not used.\n",
            "\n",
            "[09:42:02] WARNING: ../src/learner.cc:767: \n",
            "Parameters: { \"verbose\" } are not used.\n",
            "\n",
            "[09:42:02] WARNING: ../src/learner.cc:767: \n",
            "Parameters: { \"verbose\" } are not used.\n",
            "\n",
            "Fold 25:\n",
            "Train data shape: (640, 19), Test data shape: (160, 19)\n",
            "[09:42:03] WARNING: ../src/learner.cc:767: \n",
            "Parameters: { \"verbose\" } are not used.\n",
            "\n",
            "[09:42:03] WARNING: ../src/learner.cc:767: \n",
            "Parameters: { \"verbose\" } are not used.\n",
            "\n",
            "[09:42:03] WARNING: ../src/learner.cc:767: \n",
            "Parameters: { \"verbose\" } are not used.\n",
            "\n",
            "Fold 26:\n",
            "Train data shape: (640, 19), Test data shape: (160, 19)\n",
            "[09:42:04] WARNING: ../src/learner.cc:767: \n",
            "Parameters: { \"verbose\" } are not used.\n",
            "\n",
            "[09:42:05] WARNING: ../src/learner.cc:767: \n",
            "Parameters: { \"verbose\" } are not used.\n",
            "\n",
            "Fold 27:\n",
            "Train data shape: (640, 19), Test data shape: (160, 19)\n",
            "[09:42:07] WARNING: ../src/learner.cc:767: \n",
            "Parameters: { \"verbose\" } are not used.\n",
            "\n",
            "[09:42:07] WARNING: ../src/learner.cc:767: \n",
            "Parameters: { \"verbose\" } are not used.\n",
            "\n",
            "Fold 28:\n",
            "Train data shape: (640, 19), Test data shape: (160, 19)\n",
            "[09:42:08] WARNING: ../src/learner.cc:767: \n",
            "Parameters: { \"verbose\" } are not used.\n",
            "\n",
            "[09:42:08] WARNING: ../src/learner.cc:767: \n",
            "Parameters: { \"verbose\" } are not used.\n",
            "\n",
            "Fold 29:\n",
            "Train data shape: (640, 19), Test data shape: (160, 19)\n",
            "[09:42:09] WARNING: ../src/learner.cc:767: \n",
            "Parameters: { \"verbose\" } are not used.\n",
            "\n",
            "[09:42:09] WARNING: ../src/learner.cc:767: \n",
            "Parameters: { \"verbose\" } are not used.\n",
            "\n",
            "Fold 30:\n",
            "Train data shape: (640, 19), Test data shape: (160, 19)\n"
          ]
        },
        {
          "output_type": "execute_result",
          "data": {
            "text/plain": [
              "{'0_scores': 0.5262569149710912,\n",
              " '1_scores': 0.5614419541934196,\n",
              " '2_scores': 0.4942347652347652,\n",
              " '3_scores': 0.45609033124711224,\n",
              " '4_scores': 0.5614419541934196,\n",
              " '5_scores': 0.5582790910379916}"
            ]
          },
          "metadata": {},
          "execution_count": 68
        }
      ]
    },
    {
      "cell_type": "code",
      "source": [
        "model_metrics"
      ],
      "metadata": {
        "colab": {
          "base_uri": "https://localhost:8080/"
        },
        "id": "7Mds9moV0Fui",
        "outputId": "bccc384d-b1fa-4e73-a672-45a3a3d30960"
      },
      "id": "7Mds9moV0Fui",
      "execution_count": 69,
      "outputs": [
        {
          "output_type": "execute_result",
          "data": {
            "text/plain": [
              "{'0_scores': 0.5262569149710912,\n",
              " '1_scores': 0.5614419541934196,\n",
              " '2_scores': 0.4942347652347652,\n",
              " '3_scores': 0.45609033124711224,\n",
              " '4_scores': 0.5614419541934196,\n",
              " '5_scores': 0.5582790910379916}"
            ]
          },
          "metadata": {},
          "execution_count": 69
        }
      ]
    },
    {
      "cell_type": "markdown",
      "id": "9807c0ec",
      "metadata": {
        "id": "9807c0ec"
      },
      "source": [
        "##### Model Assessment and conclusion\n",
        "- To assess the model, we first reiterate the problem statement; we're interested in building a classification algorithm that identifies potential defaulting customers seeking loans. We observe that \"Gradient Boosting\" and \"XGBoost Classifier\" have the best F1 scores capped at 0.5614419541934196 average score of cross-validation scores was estimated. These model will be further optimized with \"Hyperparameter tuning\" before the best model is selected for deployment."
      ]
    }
  ],
  "metadata": {
    "kernelspec": {
      "display_name": "Python 3 (ipykernel)",
      "language": "python",
      "name": "python3"
    },
    "language_info": {
      "codemirror_mode": {
        "name": "ipython",
        "version": 3
      },
      "file_extension": ".py",
      "mimetype": "text/x-python",
      "name": "python",
      "nbconvert_exporter": "python",
      "pygments_lexer": "ipython3",
      "version": "3.10.9"
    },
    "colab": {
      "provenance": []
    }
  },
  "nbformat": 4,
  "nbformat_minor": 5
}